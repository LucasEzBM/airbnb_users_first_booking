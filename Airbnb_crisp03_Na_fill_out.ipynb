{
 "cells": [
  {
   "cell_type": "markdown",
   "metadata": {},
   "source": [
    "# 1. Imports"
   ]
  },
  {
   "cell_type": "markdown",
   "metadata": {
    "heading_collapsed": true
   },
   "source": [
    "## 1.1. Libraries"
   ]
  },
  {
   "cell_type": "code",
   "execution_count": 104,
   "metadata": {
    "ExecuteTime": {
     "end_time": "2020-12-12T09:05:10.517457Z",
     "start_time": "2020-12-12T09:05:10.495471Z"
    },
    "hidden": true
   },
   "outputs": [],
   "source": [
    "import inflection\n",
    "import datetime\n",
    "import math\n",
    "\n",
    "import random\n",
    "import numpy as np\n",
    "import pandas as pd\n",
    "import seaborn as sns\n",
    "import matplotlib.pyplot as plt\n",
    "\n",
    "from sklearn import model_selection as ms\n",
    "from sklearn import preprocessing   as pp\n",
    "from sklearn import metrics         as m\n",
    "from scikitplot import metrics as mt\n",
    "\n",
    "from IPython.core.display      import display, HTML\n",
    "from IPython.display           import Image\n",
    "\n",
    "from boruta import BorutaPy\n",
    "\n",
    "from scipy import stats as ss\n",
    "\n",
    "from keras import models as ml\n",
    "from keras import layers as l"
   ]
  },
  {
   "cell_type": "markdown",
   "metadata": {},
   "source": [
    "## 1.2. Helper Functions"
   ]
  },
  {
   "cell_type": "code",
   "execution_count": 155,
   "metadata": {
    "ExecuteTime": {
     "end_time": "2020-12-13T04:55:40.862162Z",
     "start_time": "2020-12-13T04:55:40.761225Z"
    }
   },
   "outputs": [],
   "source": [
    "def jupyter_settings():\n",
    "    \n",
    "    !matplotlib inline\n",
    "    !pylab inline\n",
    "    \n",
    "    plt.style.use('bmh')\n",
    "    plt.rcParams['figure.figsize'] = [25, 12]\n",
    "    plt.rcParams['font.size'] = 12\n",
    "    \n",
    "    display(HTML(\"<style>.container { width:90% !important; }</style>\"))\n",
    "    pd.set_option('display.max_rows', 500)\n",
    "    pd.set_option('display.max_columns', 500)\n",
    "    pd.set_option('display.expand_frame_repr', False)\n",
    "    \n",
    "    sns.set()\n",
    "    \n",
    "    \n",
    "def num_analysis(num_attributes):\n",
    "    # Cemtral tendency - mean, median\n",
    "    ct1 = pd.DataFrame(num_attributes.apply(np.mean)).T\n",
    "    ct2 = pd.DataFrame(num_attributes.apply(np.median)).T\n",
    "\n",
    "    # Dispersion - std, min, max, range, skew, kurtosis\n",
    "    d1 = pd.DataFrame(num_attributes.apply(np.std)).T\n",
    "    d2 = pd.DataFrame(num_attributes.apply(min)).T\n",
    "    d3 = pd.DataFrame(num_attributes.apply(max)).T\n",
    "    d4 = pd.DataFrame(num_attributes.apply(lambda x: x.max() - x.min())).T\n",
    "    d5 = pd.DataFrame(num_attributes.apply(lambda x: x.skew())).T\n",
    "    d6 = pd.DataFrame(num_attributes.apply(lambda x: x.kurtosis())).T\n",
    "\n",
    "    # concatenate\n",
    "    m = pd.concat([d2,d3,d4,ct1,ct2,d1,d5,d6]).T.reset_index()\n",
    "    m.columns = ['attributes','min','max','range','mean','median','std','skew','kurtosis',]\n",
    "    return m\n",
    "\n",
    "\n",
    "def cramer_v (x,y):\n",
    "    cm = pd.crosstab(x, y).values\n",
    "    n = cm.sum()\n",
    "    r, k = cm.shape\n",
    "    \n",
    "    chi2 = ss.chi2_contingency(cm)[0]\n",
    "    chi2corr = max(0, chi2 - (k-1)*(r-1)/(n-1))\n",
    "    \n",
    "    kcorr = k - (k-1)**2/(n-1)\n",
    "    rcorr = r - (r-1)**2/(n-1)\n",
    "    \n",
    "    return np.sqrt((chi2corr/n) / (min(kcorr-1,rcorr-1)))"
   ]
  },
  {
   "cell_type": "code",
   "execution_count": 106,
   "metadata": {
    "ExecuteTime": {
     "end_time": "2020-12-12T09:05:12.974573Z",
     "start_time": "2020-12-12T09:05:12.389937Z"
    }
   },
   "outputs": [
    {
     "name": "stderr",
     "output_type": "stream",
     "text": [
      "'matplotlib' nÆo ‚ reconhecido como um comando interno\n",
      "ou externo, um programa oper vel ou um arquivo em lotes.\n",
      "'pylab' nÆo ‚ reconhecido como um comando interno\n",
      "ou externo, um programa oper vel ou um arquivo em lotes.\n"
     ]
    },
    {
     "data": {
      "text/html": [
       "<style>.container { width:90% !important; }</style>"
      ],
      "text/plain": [
       "<IPython.core.display.HTML object>"
      ]
     },
     "metadata": {},
     "output_type": "display_data"
    }
   ],
   "source": [
    "jupyter_settings()"
   ]
  },
  {
   "cell_type": "markdown",
   "metadata": {},
   "source": [
    "## 1.3. Data"
   ]
  },
  {
   "cell_type": "code",
   "execution_count": 107,
   "metadata": {
    "ExecuteTime": {
     "end_time": "2020-12-12T09:05:16.564419Z",
     "start_time": "2020-12-12T09:05:15.481089Z"
    }
   },
   "outputs": [],
   "source": [
    "# train_users_2\n",
    "\n",
    "df_raw = pd.read_csv('data/train_users_2.csv')"
   ]
  },
  {
   "cell_type": "code",
   "execution_count": 108,
   "metadata": {
    "ExecuteTime": {
     "end_time": "2020-12-12T09:05:17.997054Z",
     "start_time": "2020-12-12T09:05:17.989057Z"
    }
   },
   "outputs": [
    {
     "data": {
      "text/plain": [
       "(213451, 16)"
      ]
     },
     "execution_count": 108,
     "metadata": {},
     "output_type": "execute_result"
    }
   ],
   "source": [
    "df_raw.shape"
   ]
  },
  {
   "cell_type": "code",
   "execution_count": 109,
   "metadata": {
    "ExecuteTime": {
     "end_time": "2020-12-12T09:05:39.965781Z",
     "start_time": "2020-12-12T09:05:19.004762Z"
    }
   },
   "outputs": [],
   "source": [
    "# sessions\n",
    "\n",
    "df_sessions = pd.read_csv('data/sessions.csv')"
   ]
  },
  {
   "cell_type": "code",
   "execution_count": 110,
   "metadata": {
    "ExecuteTime": {
     "end_time": "2020-12-12T09:05:40.598403Z",
     "start_time": "2020-12-12T09:05:39.973776Z"
    }
   },
   "outputs": [
    {
     "data": {
      "text/html": [
       "<div>\n",
       "<style scoped>\n",
       "    .dataframe tbody tr th:only-of-type {\n",
       "        vertical-align: middle;\n",
       "    }\n",
       "\n",
       "    .dataframe tbody tr th {\n",
       "        vertical-align: top;\n",
       "    }\n",
       "\n",
       "    .dataframe thead th {\n",
       "        text-align: right;\n",
       "    }\n",
       "</style>\n",
       "<table border=\"1\" class=\"dataframe\">\n",
       "  <thead>\n",
       "    <tr style=\"text-align: right;\">\n",
       "      <th></th>\n",
       "      <th>user_id</th>\n",
       "      <th>action</th>\n",
       "      <th>action_type</th>\n",
       "      <th>action_detail</th>\n",
       "      <th>device_type</th>\n",
       "      <th>secs_elapsed</th>\n",
       "    </tr>\n",
       "  </thead>\n",
       "  <tbody>\n",
       "    <tr>\n",
       "      <th>0</th>\n",
       "      <td>d1mm9tcy42</td>\n",
       "      <td>lookup</td>\n",
       "      <td>NaN</td>\n",
       "      <td>NaN</td>\n",
       "      <td>Windows Desktop</td>\n",
       "      <td>319.0</td>\n",
       "    </tr>\n",
       "    <tr>\n",
       "      <th>1</th>\n",
       "      <td>d1mm9tcy42</td>\n",
       "      <td>search_results</td>\n",
       "      <td>click</td>\n",
       "      <td>view_search_results</td>\n",
       "      <td>Windows Desktop</td>\n",
       "      <td>67753.0</td>\n",
       "    </tr>\n",
       "    <tr>\n",
       "      <th>2</th>\n",
       "      <td>d1mm9tcy42</td>\n",
       "      <td>lookup</td>\n",
       "      <td>NaN</td>\n",
       "      <td>NaN</td>\n",
       "      <td>Windows Desktop</td>\n",
       "      <td>301.0</td>\n",
       "    </tr>\n",
       "    <tr>\n",
       "      <th>3</th>\n",
       "      <td>d1mm9tcy42</td>\n",
       "      <td>search_results</td>\n",
       "      <td>click</td>\n",
       "      <td>view_search_results</td>\n",
       "      <td>Windows Desktop</td>\n",
       "      <td>22141.0</td>\n",
       "    </tr>\n",
       "    <tr>\n",
       "      <th>4</th>\n",
       "      <td>d1mm9tcy42</td>\n",
       "      <td>lookup</td>\n",
       "      <td>NaN</td>\n",
       "      <td>NaN</td>\n",
       "      <td>Windows Desktop</td>\n",
       "      <td>435.0</td>\n",
       "    </tr>\n",
       "  </tbody>\n",
       "</table>\n",
       "</div>"
      ],
      "text/plain": [
       "      user_id          action action_type        action_detail      device_type  secs_elapsed\n",
       "0  d1mm9tcy42          lookup         NaN                  NaN  Windows Desktop         319.0\n",
       "1  d1mm9tcy42  search_results       click  view_search_results  Windows Desktop       67753.0\n",
       "2  d1mm9tcy42          lookup         NaN                  NaN  Windows Desktop         301.0\n",
       "3  d1mm9tcy42  search_results       click  view_search_results  Windows Desktop       22141.0\n",
       "4  d1mm9tcy42          lookup         NaN                  NaN  Windows Desktop         435.0"
      ]
     },
     "execution_count": 110,
     "metadata": {},
     "output_type": "execute_result"
    }
   ],
   "source": [
    "df_sessions.head()"
   ]
  },
  {
   "cell_type": "code",
   "execution_count": 111,
   "metadata": {
    "ExecuteTime": {
     "end_time": "2020-12-12T09:06:22.238618Z",
     "start_time": "2020-12-12T09:05:40.605399Z"
    }
   },
   "outputs": [
    {
     "data": {
      "text/html": [
       "<div>\n",
       "<style scoped>\n",
       "    .dataframe tbody tr th:only-of-type {\n",
       "        vertical-align: middle;\n",
       "    }\n",
       "\n",
       "    .dataframe tbody tr th {\n",
       "        vertical-align: top;\n",
       "    }\n",
       "\n",
       "    .dataframe thead th {\n",
       "        text-align: right;\n",
       "    }\n",
       "</style>\n",
       "<table border=\"1\" class=\"dataframe\">\n",
       "  <thead>\n",
       "    <tr style=\"text-align: right;\">\n",
       "      <th></th>\n",
       "      <th>user_id</th>\n",
       "      <th>action</th>\n",
       "      <th>action_type</th>\n",
       "      <th>action_detail</th>\n",
       "      <th>device_type</th>\n",
       "      <th>secs_elapsed</th>\n",
       "    </tr>\n",
       "  </thead>\n",
       "  <tbody>\n",
       "    <tr>\n",
       "      <th>3573962</th>\n",
       "      <td>00023iyk9l</td>\n",
       "      <td>personalize</td>\n",
       "      <td>data</td>\n",
       "      <td>wishlist_content_update</td>\n",
       "      <td>Mac Desktop</td>\n",
       "      <td>1767.0</td>\n",
       "    </tr>\n",
       "    <tr>\n",
       "      <th>3573933</th>\n",
       "      <td>00023iyk9l</td>\n",
       "      <td>requested</td>\n",
       "      <td>view</td>\n",
       "      <td>p5</td>\n",
       "      <td>Mac Desktop</td>\n",
       "      <td>702.0</td>\n",
       "    </tr>\n",
       "    <tr>\n",
       "      <th>3573934</th>\n",
       "      <td>00023iyk9l</td>\n",
       "      <td>requested</td>\n",
       "      <td>view</td>\n",
       "      <td>p5</td>\n",
       "      <td>Mac Desktop</td>\n",
       "      <td>3827.0</td>\n",
       "    </tr>\n",
       "    <tr>\n",
       "      <th>3573935</th>\n",
       "      <td>00023iyk9l</td>\n",
       "      <td>travel_plans_current</td>\n",
       "      <td>view</td>\n",
       "      <td>your_trips</td>\n",
       "      <td>Mac Desktop</td>\n",
       "      <td>474.0</td>\n",
       "    </tr>\n",
       "    <tr>\n",
       "      <th>3573949</th>\n",
       "      <td>00023iyk9l</td>\n",
       "      <td>personalize</td>\n",
       "      <td>data</td>\n",
       "      <td>wishlist_content_update</td>\n",
       "      <td>Mac Desktop</td>\n",
       "      <td>922.0</td>\n",
       "    </tr>\n",
       "  </tbody>\n",
       "</table>\n",
       "</div>"
      ],
      "text/plain": [
       "            user_id                action action_type            action_detail  device_type  secs_elapsed\n",
       "3573962  00023iyk9l           personalize        data  wishlist_content_update  Mac Desktop        1767.0\n",
       "3573933  00023iyk9l             requested        view                       p5  Mac Desktop         702.0\n",
       "3573934  00023iyk9l             requested        view                       p5  Mac Desktop        3827.0\n",
       "3573935  00023iyk9l  travel_plans_current        view               your_trips  Mac Desktop         474.0\n",
       "3573949  00023iyk9l           personalize        data  wishlist_content_update  Mac Desktop         922.0"
      ]
     },
     "execution_count": 111,
     "metadata": {},
     "output_type": "execute_result"
    }
   ],
   "source": [
    "# granulariadade, cada usuario realiza varias ações, como registrado no csv 'sessions'\n",
    "\n",
    "df_sessions.sort_values('user_id').head()\n",
    "\n",
    "# cada ação pode ser convertida a uma nova variável, com indicação de ocorrência ou não por parte do usuário"
   ]
  },
  {
   "cell_type": "code",
   "execution_count": 112,
   "metadata": {
    "ExecuteTime": {
     "end_time": "2020-12-12T09:06:25.522584Z",
     "start_time": "2020-12-12T09:06:22.248610Z"
    }
   },
   "outputs": [
    {
     "data": {
      "text/html": [
       "<div>\n",
       "<style scoped>\n",
       "    .dataframe tbody tr th:only-of-type {\n",
       "        vertical-align: middle;\n",
       "    }\n",
       "\n",
       "    .dataframe tbody tr th {\n",
       "        vertical-align: top;\n",
       "    }\n",
       "\n",
       "    .dataframe thead th {\n",
       "        text-align: right;\n",
       "    }\n",
       "</style>\n",
       "<table border=\"1\" class=\"dataframe\">\n",
       "  <thead>\n",
       "    <tr style=\"text-align: right;\">\n",
       "      <th></th>\n",
       "      <th>action</th>\n",
       "    </tr>\n",
       "    <tr>\n",
       "      <th>user_id</th>\n",
       "      <th></th>\n",
       "    </tr>\n",
       "  </thead>\n",
       "  <tbody>\n",
       "    <tr>\n",
       "      <th>00023iyk9l</th>\n",
       "      <td>39</td>\n",
       "    </tr>\n",
       "  </tbody>\n",
       "</table>\n",
       "</div>"
      ],
      "text/plain": [
       "            action\n",
       "user_id           \n",
       "00023iyk9l      39"
      ]
     },
     "execution_count": 112,
     "metadata": {},
     "output_type": "execute_result"
    }
   ],
   "source": [
    "df_sessions[df_sessions['user_id'] == '00023iyk9l'][['user_id', 'action']].groupby('user_id').count()"
   ]
  },
  {
   "cell_type": "code",
   "execution_count": 113,
   "metadata": {
    "ExecuteTime": {
     "end_time": "2020-12-12T09:06:28.887501Z",
     "start_time": "2020-12-12T09:06:25.536576Z"
    }
   },
   "outputs": [
    {
     "data": {
      "text/plain": [
       "user_id     action               \n",
       "00023iyk9l  show                     9\n",
       "            requested                5\n",
       "            personalize              4\n",
       "            index                    4\n",
       "            dashboard                4\n",
       "            similar_listings         3\n",
       "            travel_plans_current     2\n",
       "            header_userpic           2\n",
       "            ajax_refresh_subtotal    2\n",
       "            search_results           1\n",
       "            pending                  1\n",
       "            confirm_email            1\n",
       "            callback                 1\n",
       "dtype: int64"
      ]
     },
     "execution_count": 113,
     "metadata": {},
     "output_type": "execute_result"
    }
   ],
   "source": [
    "df_sessions[df_sessions['user_id'] == '00023iyk9l'][['user_id', 'action']].value_counts()"
   ]
  },
  {
   "cell_type": "code",
   "execution_count": 114,
   "metadata": {
    "ExecuteTime": {
     "end_time": "2020-12-12T09:06:32.586209Z",
     "start_time": "2020-12-12T09:06:28.892498Z"
    }
   },
   "outputs": [
    {
     "data": {
      "text/html": [
       "<div>\n",
       "<style scoped>\n",
       "    .dataframe tbody tr th:only-of-type {\n",
       "        vertical-align: middle;\n",
       "    }\n",
       "\n",
       "    .dataframe tbody tr th {\n",
       "        vertical-align: top;\n",
       "    }\n",
       "\n",
       "    .dataframe thead tr th {\n",
       "        text-align: left;\n",
       "    }\n",
       "</style>\n",
       "<table border=\"1\" class=\"dataframe\">\n",
       "  <thead>\n",
       "    <tr>\n",
       "      <th>user_id</th>\n",
       "      <th colspan=\"13\" halign=\"left\">00023iyk9l</th>\n",
       "    </tr>\n",
       "    <tr>\n",
       "      <th>action</th>\n",
       "      <th>show</th>\n",
       "      <th>requested</th>\n",
       "      <th>personalize</th>\n",
       "      <th>index</th>\n",
       "      <th>dashboard</th>\n",
       "      <th>similar_listings</th>\n",
       "      <th>travel_plans_current</th>\n",
       "      <th>header_userpic</th>\n",
       "      <th>ajax_refresh_subtotal</th>\n",
       "      <th>search_results</th>\n",
       "      <th>pending</th>\n",
       "      <th>confirm_email</th>\n",
       "      <th>callback</th>\n",
       "    </tr>\n",
       "  </thead>\n",
       "  <tbody>\n",
       "    <tr>\n",
       "      <th>0</th>\n",
       "      <td>9</td>\n",
       "      <td>5</td>\n",
       "      <td>4</td>\n",
       "      <td>4</td>\n",
       "      <td>4</td>\n",
       "      <td>3</td>\n",
       "      <td>2</td>\n",
       "      <td>2</td>\n",
       "      <td>2</td>\n",
       "      <td>1</td>\n",
       "      <td>1</td>\n",
       "      <td>1</td>\n",
       "      <td>1</td>\n",
       "    </tr>\n",
       "  </tbody>\n",
       "</table>\n",
       "</div>"
      ],
      "text/plain": [
       "user_id 00023iyk9l                                                                                                                                                               \n",
       "action        show requested personalize index dashboard similar_listings travel_plans_current header_userpic ajax_refresh_subtotal search_results pending confirm_email callback\n",
       "0                9         5           4     4         4                3                    2              2                     2              1       1             1        1"
      ]
     },
     "execution_count": 114,
     "metadata": {},
     "output_type": "execute_result"
    }
   ],
   "source": [
    "pd.DataFrame(df_sessions[df_sessions['user_id'] == '00023iyk9l'][['user_id', 'action']].value_counts()).T"
   ]
  },
  {
   "cell_type": "markdown",
   "metadata": {},
   "source": [
    "# 2. Data Description"
   ]
  },
  {
   "cell_type": "code",
   "execution_count": 115,
   "metadata": {
    "ExecuteTime": {
     "end_time": "2020-12-12T09:06:55.803906Z",
     "start_time": "2020-12-12T09:06:55.761932Z"
    }
   },
   "outputs": [],
   "source": [
    "df1 = df_raw.copy()"
   ]
  },
  {
   "cell_type": "markdown",
   "metadata": {},
   "source": [
    "### Shape"
   ]
  },
  {
   "cell_type": "code",
   "execution_count": 116,
   "metadata": {
    "ExecuteTime": {
     "end_time": "2020-12-12T09:06:57.117092Z",
     "start_time": "2020-12-12T09:06:57.109098Z"
    }
   },
   "outputs": [
    {
     "name": "stdout",
     "output_type": "stream",
     "text": [
      "Number of Rows: 213451\n",
      "Number of Columns: 16\n"
     ]
    }
   ],
   "source": [
    "print('Number of Rows: {}'.format(df1.shape[0]))\n",
    "print('Number of Columns: {}'.format(df1.shape[1]))"
   ]
  },
  {
   "cell_type": "code",
   "execution_count": 117,
   "metadata": {
    "ExecuteTime": {
     "end_time": "2020-12-12T09:07:00.239442Z",
     "start_time": "2020-12-12T09:07:00.189473Z"
    }
   },
   "outputs": [
    {
     "data": {
      "text/html": [
       "<div>\n",
       "<style scoped>\n",
       "    .dataframe tbody tr th:only-of-type {\n",
       "        vertical-align: middle;\n",
       "    }\n",
       "\n",
       "    .dataframe tbody tr th {\n",
       "        vertical-align: top;\n",
       "    }\n",
       "\n",
       "    .dataframe thead th {\n",
       "        text-align: right;\n",
       "    }\n",
       "</style>\n",
       "<table border=\"1\" class=\"dataframe\">\n",
       "  <thead>\n",
       "    <tr style=\"text-align: right;\">\n",
       "      <th></th>\n",
       "      <th>157318</th>\n",
       "    </tr>\n",
       "  </thead>\n",
       "  <tbody>\n",
       "    <tr>\n",
       "      <th>id</th>\n",
       "      <td>q48mghvx0g</td>\n",
       "    </tr>\n",
       "    <tr>\n",
       "      <th>date_account_created</th>\n",
       "      <td>2014-02-26</td>\n",
       "    </tr>\n",
       "    <tr>\n",
       "      <th>timestamp_first_active</th>\n",
       "      <td>20140226225536</td>\n",
       "    </tr>\n",
       "    <tr>\n",
       "      <th>date_first_booking</th>\n",
       "      <td>NaN</td>\n",
       "    </tr>\n",
       "    <tr>\n",
       "      <th>gender</th>\n",
       "      <td>MALE</td>\n",
       "    </tr>\n",
       "    <tr>\n",
       "      <th>age</th>\n",
       "      <td>1953</td>\n",
       "    </tr>\n",
       "    <tr>\n",
       "      <th>signup_method</th>\n",
       "      <td>basic</td>\n",
       "    </tr>\n",
       "    <tr>\n",
       "      <th>signup_flow</th>\n",
       "      <td>23</td>\n",
       "    </tr>\n",
       "    <tr>\n",
       "      <th>language</th>\n",
       "      <td>en</td>\n",
       "    </tr>\n",
       "    <tr>\n",
       "      <th>affiliate_channel</th>\n",
       "      <td>direct</td>\n",
       "    </tr>\n",
       "    <tr>\n",
       "      <th>affiliate_provider</th>\n",
       "      <td>direct</td>\n",
       "    </tr>\n",
       "    <tr>\n",
       "      <th>first_affiliate_tracked</th>\n",
       "      <td>untracked</td>\n",
       "    </tr>\n",
       "    <tr>\n",
       "      <th>signup_app</th>\n",
       "      <td>Android</td>\n",
       "    </tr>\n",
       "    <tr>\n",
       "      <th>first_device_type</th>\n",
       "      <td>Other/Unknown</td>\n",
       "    </tr>\n",
       "    <tr>\n",
       "      <th>first_browser</th>\n",
       "      <td>-unknown-</td>\n",
       "    </tr>\n",
       "    <tr>\n",
       "      <th>country_destination</th>\n",
       "      <td>NDF</td>\n",
       "    </tr>\n",
       "  </tbody>\n",
       "</table>\n",
       "</div>"
      ],
      "text/plain": [
       "                                 157318\n",
       "id                           q48mghvx0g\n",
       "date_account_created         2014-02-26\n",
       "timestamp_first_active   20140226225536\n",
       "date_first_booking                  NaN\n",
       "gender                             MALE\n",
       "age                                1953\n",
       "signup_method                     basic\n",
       "signup_flow                          23\n",
       "language                             en\n",
       "affiliate_channel                direct\n",
       "affiliate_provider               direct\n",
       "first_affiliate_tracked       untracked\n",
       "signup_app                      Android\n",
       "first_device_type         Other/Unknown\n",
       "first_browser                 -unknown-\n",
       "country_destination                 NDF"
      ]
     },
     "execution_count": 117,
     "metadata": {},
     "output_type": "execute_result"
    }
   ],
   "source": [
    "df1.sample().T"
   ]
  },
  {
   "cell_type": "code",
   "execution_count": 122,
   "metadata": {
    "ExecuteTime": {
     "end_time": "2020-12-12T09:07:11.638233Z",
     "start_time": "2020-12-12T09:07:11.574273Z"
    }
   },
   "outputs": [
    {
     "data": {
      "text/plain": [
       "NDF      0.583473\n",
       "US       0.292226\n",
       "other    0.047290\n",
       "FR       0.023532\n",
       "IT       0.013282\n",
       "GB       0.010888\n",
       "ES       0.010536\n",
       "CA       0.006690\n",
       "DE       0.004971\n",
       "NL       0.003570\n",
       "AU       0.002525\n",
       "PT       0.001017\n",
       "Name: country_destination, dtype: float64"
      ]
     },
     "execution_count": 122,
     "metadata": {},
     "output_type": "execute_result"
    }
   ],
   "source": [
    "df1['country_destination'].value_counts(normalize=True)"
   ]
  },
  {
   "cell_type": "markdown",
   "metadata": {},
   "source": [
    "### Missing Values"
   ]
  },
  {
   "cell_type": "code",
   "execution_count": 123,
   "metadata": {
    "ExecuteTime": {
     "end_time": "2020-12-12T09:07:19.719831Z",
     "start_time": "2020-12-12T09:07:19.385039Z"
    }
   },
   "outputs": [
    {
     "data": {
      "text/plain": [
       "id                         0.000000\n",
       "date_account_created       0.000000\n",
       "timestamp_first_active     0.000000\n",
       "date_first_booking         0.583473\n",
       "gender                     0.000000\n",
       "age                        0.412226\n",
       "signup_method              0.000000\n",
       "signup_flow                0.000000\n",
       "language                   0.000000\n",
       "affiliate_channel          0.000000\n",
       "affiliate_provider         0.000000\n",
       "first_affiliate_tracked    0.028414\n",
       "signup_app                 0.000000\n",
       "first_device_type          0.000000\n",
       "first_browser              0.000000\n",
       "country_destination        0.000000\n",
       "dtype: float64"
      ]
     },
     "execution_count": 123,
     "metadata": {},
     "output_type": "execute_result"
    }
   ],
   "source": [
    "df1.isna().sum() / len(df1)\n",
    "\n",
    "# date_first_booking         \n",
    "# age         \n",
    "# first_affiliate_tracked    "
   ]
  },
  {
   "cell_type": "code",
   "execution_count": 124,
   "metadata": {
    "ExecuteTime": {
     "end_time": "2020-12-12T09:07:27.878976Z",
     "start_time": "2020-12-12T09:07:21.501922Z"
    }
   },
   "outputs": [
    {
     "data": {
      "text/plain": [
       "user_id          0.003264\n",
       "action           0.007535\n",
       "action_type      0.106570\n",
       "action_detail    0.106570\n",
       "device_type      0.000000\n",
       "secs_elapsed     0.012872\n",
       "dtype: float64"
      ]
     },
     "execution_count": 124,
     "metadata": {},
     "output_type": "execute_result"
    }
   ],
   "source": [
    "df_sessions.isna().sum() / len(df_sessions)\n",
    "\n",
    "# user_id          0.003264\n",
    "# action           0.007535\n",
    "# action_type      0.106570\n",
    "# action_detail    0.106570\n",
    "# device_type      0.000000\n",
    "# secs_elapsed     0.012872"
   ]
  },
  {
   "cell_type": "code",
   "execution_count": 125,
   "metadata": {
    "ExecuteTime": {
     "end_time": "2020-12-12T09:09:43.063508Z",
     "start_time": "2020-12-12T09:08:54.455224Z"
    }
   },
   "outputs": [],
   "source": [
    "# ========================= Users ===========================\n",
    "# date_first_booking   : the maximum datetime value is correspondent to what would be the current present date, in this dataset it is 2015-06-29\n",
    "date_first_booking_max = pd.to_datetime(df1['date_first_booking']).max().strftime('%Y-%m-%d')\n",
    "df1['date_first_booking'] = df1['date_first_booking'].fillna(date_first_booking_max)\n",
    "\n",
    "# age         \n",
    "df1 = df1[(df1['age']>15) & (df1['age']<120)]\n",
    "avg_age = df1['age'].mean().astype(int)\n",
    "df1['age'] = df1['age'].fillna(avg_age)\n",
    "\n",
    "# first_affiliate_tracked   \n",
    "df1 = df1[~df1['first_affiliate_tracked'].isna()]\n",
    "\n",
    "# ======================= Sessions =========================\n",
    "# user_id          0.003264\n",
    "df_sessions = df_sessions[~df_sessions['user_id'].isna()]\n",
    "\n",
    "# action           0.007535\n",
    "df_sessions = df_sessions[~df_sessions['action'].isna()]\n",
    "\n",
    "# action_type      0.106570\n",
    "df_sessions = df_sessions[~df_sessions['action_type'].isna()]\n",
    "\n",
    "# action_detail    0.106570\n",
    "df_sessions = df_sessions[~df_sessions['action_detail'].isna()]\n",
    "\n",
    "# device_type      0.000000\n",
    "df_sessions = df_sessions[~df_sessions['device_type'].isna()]\n",
    "\n",
    "# secs_elapsed     0.012872\n",
    "df_sessions = df_sessions[~df_sessions['secs_elapsed'].isna()]"
   ]
  },
  {
   "cell_type": "code",
   "execution_count": 126,
   "metadata": {
    "ExecuteTime": {
     "end_time": "2020-12-12T09:09:48.708107Z",
     "start_time": "2020-12-12T09:09:44.632748Z"
    }
   },
   "outputs": [
    {
     "data": {
      "text/plain": [
       "id                         0.0\n",
       "date_account_created       0.0\n",
       "timestamp_first_active     0.0\n",
       "date_first_booking         0.0\n",
       "gender                     0.0\n",
       "age                        0.0\n",
       "signup_method              0.0\n",
       "signup_flow                0.0\n",
       "language                   0.0\n",
       "affiliate_channel          0.0\n",
       "affiliate_provider         0.0\n",
       "first_affiliate_tracked    0.0\n",
       "signup_app                 0.0\n",
       "first_device_type          0.0\n",
       "first_browser              0.0\n",
       "country_destination        0.0\n",
       "dtype: float64"
      ]
     },
     "execution_count": 126,
     "metadata": {},
     "output_type": "execute_result"
    }
   ],
   "source": [
    "df1.isna().sum() / len(df1)"
   ]
  },
  {
   "cell_type": "code",
   "execution_count": 127,
   "metadata": {
    "ExecuteTime": {
     "end_time": "2020-12-12T09:09:54.289652Z",
     "start_time": "2020-12-12T09:09:49.728474Z"
    }
   },
   "outputs": [
    {
     "data": {
      "text/plain": [
       "user_id          0.0\n",
       "action           0.0\n",
       "action_type      0.0\n",
       "action_detail    0.0\n",
       "device_type      0.0\n",
       "secs_elapsed     0.0\n",
       "dtype: float64"
      ]
     },
     "execution_count": 127,
     "metadata": {},
     "output_type": "execute_result"
    }
   ],
   "source": [
    "df_sessions.isna().sum() / len(df_sessions)"
   ]
  },
  {
   "cell_type": "markdown",
   "metadata": {},
   "source": [
    "### Data Types"
   ]
  },
  {
   "cell_type": "code",
   "execution_count": 128,
   "metadata": {
    "ExecuteTime": {
     "end_time": "2020-12-12T09:10:39.380298Z",
     "start_time": "2020-12-12T09:10:39.346320Z"
    }
   },
   "outputs": [
    {
     "data": {
      "text/plain": [
       "id                                 object\n",
       "date_account_created       datetime64[ns]\n",
       "timestamp_first_active     datetime64[ns]\n",
       "date_first_booking                 object\n",
       "gender                             object\n",
       "age                               float64\n",
       "signup_method                      object\n",
       "signup_flow                         int64\n",
       "language                           object\n",
       "affiliate_channel                  object\n",
       "affiliate_provider                 object\n",
       "first_affiliate_tracked            object\n",
       "signup_app                         object\n",
       "first_device_type                  object\n",
       "first_browser                      object\n",
       "country_destination                object\n",
       "dtype: object"
      ]
     },
     "execution_count": 128,
     "metadata": {},
     "output_type": "execute_result"
    }
   ],
   "source": [
    "df1.dtypes"
   ]
  },
  {
   "cell_type": "code",
   "execution_count": 129,
   "metadata": {
    "ExecuteTime": {
     "end_time": "2020-12-12T09:10:54.490289Z",
     "start_time": "2020-12-12T09:10:54.014585Z"
    }
   },
   "outputs": [],
   "source": [
    "# date_account_created    \n",
    "df1['date_account_created'] = pd.to_datetime(df1['date_account_created'])\n",
    "\n",
    "# timestamp_first_active       \n",
    "df1['timestamp_first_active'] = pd.to_datetime(df1['timestamp_first_active'], format = '%Y%m%d%H%M%S')\n",
    "\n",
    "# date_first_booking          \n",
    "df1['date_first_booking'] = pd.to_datetime(df1['date_first_booking'])\n",
    "\n",
    "# age      \n",
    "df1['age'] = df1['age'].astype(int)"
   ]
  },
  {
   "cell_type": "code",
   "execution_count": 130,
   "metadata": {
    "ExecuteTime": {
     "end_time": "2020-12-12T09:11:03.260011Z",
     "start_time": "2020-12-12T09:11:03.243020Z"
    }
   },
   "outputs": [
    {
     "data": {
      "text/plain": [
       "id                                 object\n",
       "date_account_created       datetime64[ns]\n",
       "timestamp_first_active     datetime64[ns]\n",
       "date_first_booking         datetime64[ns]\n",
       "gender                             object\n",
       "age                                 int32\n",
       "signup_method                      object\n",
       "signup_flow                         int64\n",
       "language                           object\n",
       "affiliate_channel                  object\n",
       "affiliate_provider                 object\n",
       "first_affiliate_tracked            object\n",
       "signup_app                         object\n",
       "first_device_type                  object\n",
       "first_browser                      object\n",
       "country_destination                object\n",
       "dtype: object"
      ]
     },
     "execution_count": 130,
     "metadata": {},
     "output_type": "execute_result"
    }
   ],
   "source": [
    "df1.dtypes"
   ]
  },
  {
   "cell_type": "markdown",
   "metadata": {},
   "source": [
    "## Descriptive Analysis"
   ]
  },
  {
   "cell_type": "code",
   "execution_count": 139,
   "metadata": {
    "ExecuteTime": {
     "end_time": "2020-12-12T12:09:34.732399Z",
     "start_time": "2020-12-12T12:09:32.945155Z"
    }
   },
   "outputs": [],
   "source": [
    "# Users\n",
    "num_attributes = df1.select_dtypes( include=['int64', 'float64', 'int32'] )\n",
    "cat_attributes = df1.select_dtypes( include=['object'] )\n",
    "time_attributes = df1.select_dtypes( include=['datetime64[ns]'] )\n",
    "\n",
    "# Sessions\n",
    "num_attributes_sessions = df_sessions.select_dtypes( include=['int64', 'float64'] )\n",
    "cat_attributes_sessions = df_sessions.select_dtypes( exclude=['int64', 'float64', 'datetime64[ns]'] )\n",
    "time_attributes_sessions = df_sessions.select_dtypes( include=['datetime64[ns]'] )"
   ]
  },
  {
   "cell_type": "code",
   "execution_count": 146,
   "metadata": {
    "ExecuteTime": {
     "end_time": "2020-12-12T12:11:35.141442Z",
     "start_time": "2020-12-12T12:11:34.972536Z"
    }
   },
   "outputs": [
    {
     "data": {
      "text/html": [
       "<div>\n",
       "<style scoped>\n",
       "    .dataframe tbody tr th:only-of-type {\n",
       "        vertical-align: middle;\n",
       "    }\n",
       "\n",
       "    .dataframe tbody tr th {\n",
       "        vertical-align: top;\n",
       "    }\n",
       "\n",
       "    .dataframe thead th {\n",
       "        text-align: right;\n",
       "    }\n",
       "</style>\n",
       "<table border=\"1\" class=\"dataframe\">\n",
       "  <thead>\n",
       "    <tr style=\"text-align: right;\">\n",
       "      <th></th>\n",
       "      <th>attributes</th>\n",
       "      <th>min</th>\n",
       "      <th>max</th>\n",
       "      <th>range</th>\n",
       "      <th>mean</th>\n",
       "      <th>median</th>\n",
       "      <th>std</th>\n",
       "      <th>skew</th>\n",
       "      <th>kurtosis</th>\n",
       "    </tr>\n",
       "  </thead>\n",
       "  <tbody>\n",
       "    <tr>\n",
       "      <th>0</th>\n",
       "      <td>age</td>\n",
       "      <td>16.0</td>\n",
       "      <td>115.0</td>\n",
       "      <td>99.0</td>\n",
       "      <td>37.405591</td>\n",
       "      <td>34.0</td>\n",
       "      <td>13.939844</td>\n",
       "      <td>2.089718</td>\n",
       "      <td>6.516468</td>\n",
       "    </tr>\n",
       "    <tr>\n",
       "      <th>1</th>\n",
       "      <td>signup_flow</td>\n",
       "      <td>0.0</td>\n",
       "      <td>25.0</td>\n",
       "      <td>25.0</td>\n",
       "      <td>2.519513</td>\n",
       "      <td>0.0</td>\n",
       "      <td>6.604696</td>\n",
       "      <td>2.705871</td>\n",
       "      <td>5.928298</td>\n",
       "    </tr>\n",
       "  </tbody>\n",
       "</table>\n",
       "</div>"
      ],
      "text/plain": [
       "    attributes   min    max  range       mean  median        std      skew  kurtosis\n",
       "0          age  16.0  115.0   99.0  37.405591    34.0  13.939844  2.089718  6.516468\n",
       "1  signup_flow   0.0   25.0   25.0   2.519513     0.0   6.604696  2.705871  5.928298"
      ]
     },
     "execution_count": 146,
     "metadata": {},
     "output_type": "execute_result"
    }
   ],
   "source": [
    "num_analysis(num_attributes)"
   ]
  },
  {
   "cell_type": "code",
   "execution_count": 137,
   "metadata": {
    "ExecuteTime": {
     "end_time": "2020-12-12T12:08:24.954507Z",
     "start_time": "2020-12-12T12:08:18.431877Z"
    }
   },
   "outputs": [
    {
     "data": {
      "text/html": [
       "<div>\n",
       "<style scoped>\n",
       "    .dataframe tbody tr th:only-of-type {\n",
       "        vertical-align: middle;\n",
       "    }\n",
       "\n",
       "    .dataframe tbody tr th {\n",
       "        vertical-align: top;\n",
       "    }\n",
       "\n",
       "    .dataframe thead th {\n",
       "        text-align: right;\n",
       "    }\n",
       "</style>\n",
       "<table border=\"1\" class=\"dataframe\">\n",
       "  <thead>\n",
       "    <tr style=\"text-align: right;\">\n",
       "      <th></th>\n",
       "      <th>attributes</th>\n",
       "      <th>min</th>\n",
       "      <th>max</th>\n",
       "      <th>range</th>\n",
       "      <th>mean</th>\n",
       "      <th>median</th>\n",
       "      <th>std</th>\n",
       "      <th>skew</th>\n",
       "      <th>kurtosis</th>\n",
       "    </tr>\n",
       "  </thead>\n",
       "  <tbody>\n",
       "    <tr>\n",
       "      <th>0</th>\n",
       "      <td>secs_elapsed</td>\n",
       "      <td>0.0</td>\n",
       "      <td>1799977.0</td>\n",
       "      <td>1799977.0</td>\n",
       "      <td>19961.8251</td>\n",
       "      <td>1369.0</td>\n",
       "      <td>88849.388449</td>\n",
       "      <td>11.137761</td>\n",
       "      <td>154.84312</td>\n",
       "    </tr>\n",
       "  </tbody>\n",
       "</table>\n",
       "</div>"
      ],
      "text/plain": [
       "     attributes  min        max      range        mean  median           std       skew   kurtosis\n",
       "0  secs_elapsed  0.0  1799977.0  1799977.0  19961.8251  1369.0  88849.388449  11.137761  154.84312"
      ]
     },
     "execution_count": 137,
     "metadata": {},
     "output_type": "execute_result"
    }
   ],
   "source": [
    "\n",
    "\n",
    "\n",
    "num_analysis(num_attributes_sessions)"
   ]
  },
  {
   "cell_type": "code",
   "execution_count": 140,
   "metadata": {
    "ExecuteTime": {
     "end_time": "2020-12-12T12:09:37.601958Z",
     "start_time": "2020-12-12T12:09:37.174221Z"
    },
    "scrolled": true
   },
   "outputs": [
    {
     "data": {
      "text/html": [
       "<div>\n",
       "<style scoped>\n",
       "    .dataframe tbody tr th:only-of-type {\n",
       "        vertical-align: middle;\n",
       "    }\n",
       "\n",
       "    .dataframe tbody tr th {\n",
       "        vertical-align: top;\n",
       "    }\n",
       "\n",
       "    .dataframe thead th {\n",
       "        text-align: right;\n",
       "    }\n",
       "</style>\n",
       "<table border=\"1\" class=\"dataframe\">\n",
       "  <thead>\n",
       "    <tr style=\"text-align: right;\">\n",
       "      <th></th>\n",
       "      <th>gender</th>\n",
       "      <th>signup_method</th>\n",
       "      <th>language</th>\n",
       "      <th>affiliate_channel</th>\n",
       "      <th>affiliate_provider</th>\n",
       "      <th>first_affiliate_tracked</th>\n",
       "      <th>signup_app</th>\n",
       "      <th>first_device_type</th>\n",
       "      <th>first_browser</th>\n",
       "      <th>country_destination</th>\n",
       "    </tr>\n",
       "  </thead>\n",
       "  <tbody>\n",
       "    <tr>\n",
       "      <th>count</th>\n",
       "      <td>122636</td>\n",
       "      <td>122636</td>\n",
       "      <td>122636</td>\n",
       "      <td>122636</td>\n",
       "      <td>122636</td>\n",
       "      <td>122636</td>\n",
       "      <td>122636</td>\n",
       "      <td>122636</td>\n",
       "      <td>122636</td>\n",
       "      <td>122636</td>\n",
       "    </tr>\n",
       "    <tr>\n",
       "      <th>unique</th>\n",
       "      <td>4</td>\n",
       "      <td>3</td>\n",
       "      <td>25</td>\n",
       "      <td>8</td>\n",
       "      <td>17</td>\n",
       "      <td>7</td>\n",
       "      <td>4</td>\n",
       "      <td>9</td>\n",
       "      <td>41</td>\n",
       "      <td>12</td>\n",
       "    </tr>\n",
       "    <tr>\n",
       "      <th>top</th>\n",
       "      <td>FEMALE</td>\n",
       "      <td>basic</td>\n",
       "      <td>en</td>\n",
       "      <td>direct</td>\n",
       "      <td>direct</td>\n",
       "      <td>untracked</td>\n",
       "      <td>Web</td>\n",
       "      <td>Mac Desktop</td>\n",
       "      <td>Chrome</td>\n",
       "      <td>NDF</td>\n",
       "    </tr>\n",
       "    <tr>\n",
       "      <th>freq</th>\n",
       "      <td>56362</td>\n",
       "      <td>66039</td>\n",
       "      <td>118205</td>\n",
       "      <td>79093</td>\n",
       "      <td>78954</td>\n",
       "      <td>64712</td>\n",
       "      <td>108283</td>\n",
       "      <td>57943</td>\n",
       "      <td>41778</td>\n",
       "      <td>54852</td>\n",
       "    </tr>\n",
       "  </tbody>\n",
       "</table>\n",
       "</div>"
      ],
      "text/plain": [
       "        gender signup_method language affiliate_channel affiliate_provider first_affiliate_tracked signup_app first_device_type first_browser country_destination\n",
       "count   122636        122636   122636            122636             122636                  122636     122636            122636        122636              122636\n",
       "unique       4             3       25                 8                 17                       7          4                 9            41                  12\n",
       "top     FEMALE         basic       en            direct             direct               untracked        Web       Mac Desktop        Chrome                 NDF\n",
       "freq     56362         66039   118205             79093              78954                   64712     108283             57943         41778               54852"
      ]
     },
     "execution_count": 140,
     "metadata": {},
     "output_type": "execute_result"
    }
   ],
   "source": [
    "cat_attributes.drop('id', axis=1).describe()"
   ]
  },
  {
   "cell_type": "code",
   "execution_count": 142,
   "metadata": {
    "ExecuteTime": {
     "end_time": "2020-12-12T12:10:37.998160Z",
     "start_time": "2020-12-12T12:10:25.632794Z"
    }
   },
   "outputs": [
    {
     "data": {
      "text/html": [
       "<div>\n",
       "<style scoped>\n",
       "    .dataframe tbody tr th:only-of-type {\n",
       "        vertical-align: middle;\n",
       "    }\n",
       "\n",
       "    .dataframe tbody tr th {\n",
       "        vertical-align: top;\n",
       "    }\n",
       "\n",
       "    .dataframe thead th {\n",
       "        text-align: right;\n",
       "    }\n",
       "</style>\n",
       "<table border=\"1\" class=\"dataframe\">\n",
       "  <thead>\n",
       "    <tr style=\"text-align: right;\">\n",
       "      <th></th>\n",
       "      <th>action</th>\n",
       "      <th>action_type</th>\n",
       "      <th>action_detail</th>\n",
       "      <th>device_type</th>\n",
       "    </tr>\n",
       "  </thead>\n",
       "  <tbody>\n",
       "    <tr>\n",
       "      <th>count</th>\n",
       "      <td>9213930</td>\n",
       "      <td>9213930</td>\n",
       "      <td>9213930</td>\n",
       "      <td>9213930</td>\n",
       "    </tr>\n",
       "    <tr>\n",
       "      <th>unique</th>\n",
       "      <td>347</td>\n",
       "      <td>10</td>\n",
       "      <td>155</td>\n",
       "      <td>14</td>\n",
       "    </tr>\n",
       "    <tr>\n",
       "      <th>top</th>\n",
       "      <td>show</td>\n",
       "      <td>view</td>\n",
       "      <td>view_search_results</td>\n",
       "      <td>Mac Desktop</td>\n",
       "    </tr>\n",
       "    <tr>\n",
       "      <th>freq</th>\n",
       "      <td>2178382</td>\n",
       "      <td>3545621</td>\n",
       "      <td>1770931</td>\n",
       "      <td>3019523</td>\n",
       "    </tr>\n",
       "  </tbody>\n",
       "</table>\n",
       "</div>"
      ],
      "text/plain": [
       "         action action_type        action_detail  device_type\n",
       "count   9213930     9213930              9213930      9213930\n",
       "unique      347          10                  155           14\n",
       "top        show        view  view_search_results  Mac Desktop\n",
       "freq    2178382     3545621              1770931      3019523"
      ]
     },
     "execution_count": 142,
     "metadata": {},
     "output_type": "execute_result"
    }
   ],
   "source": [
    "cat_attributes_sessions.drop('user_id', axis=1).describe()"
   ]
  },
  {
   "cell_type": "code",
   "execution_count": 158,
   "metadata": {
    "ExecuteTime": {
     "end_time": "2020-12-13T05:34:09.668768Z",
     "start_time": "2020-12-13T05:33:58.007988Z"
    }
   },
   "outputs": [
    {
     "data": {
      "text/plain": [
       "'action_type'"
      ]
     },
     "execution_count": 158,
     "metadata": {},
     "output_type": "execute_result"
    }
   ],
   "source": [
    "cat_list = cat_attributes_sessions.drop('user_id', axis=1).columns.tolist()\n",
    "cat_list[1]\n"
   ]
  },
  {
   "cell_type": "code",
   "execution_count": 162,
   "metadata": {
    "ExecuteTime": {
     "end_time": "2020-12-13T05:44:55.444169Z",
     "start_time": "2020-12-13T05:44:42.627107Z"
    }
   },
   "outputs": [
    {
     "data": {
      "text/plain": [
       "array([[  0,   0,   0, ...,   0,   0,   0],\n",
       "       [  0,   0,   0, ...,   0,   0,   0],\n",
       "       [  0,   0,   0, ...,   0,   0,   0],\n",
       "       ...,\n",
       "       [174,   0,   0, ...,   0,   0,   0],\n",
       "       [  1,   0,   0, ...,   0,   0,   0],\n",
       "       [ 24,   0,   0, ...,   0,   0,   0]], dtype=int64)"
      ]
     },
     "execution_count": 162,
     "metadata": {},
     "output_type": "execute_result"
    }
   ],
   "source": [
    "pd.crosstab(cat_attributes_sessions['action'],cat_attributes_sessions['action_type']).values"
   ]
  },
  {
   "cell_type": "markdown",
   "metadata": {},
   "source": [
    "### create a list of cramer v correlations, and add them to a dataframe, display heatmap\n",
    "\n",
    "a1 = cramer_v(a['state_holiday'], a['state_holiday'])\n",
    "\n",
    "a2 = cramer_v(a['state_holiday'], a['store_type'])\n",
    "\n",
    "a3 = cramer_v(a['state_holiday'], a['assortment'])\n",
    "\n",
    "\n",
    "a4 = cramer_v(a['store_type'], a['state_holiday'])\n",
    "\n",
    "a5 = cramer_v(a['store_type'], a['store_type'])\n",
    "\n",
    "a6 = cramer_v(a['store_type'], a['assortment'])\n",
    "\n",
    "\n",
    "a7 = cramer_v(a['assortment'], a['state_holiday'])\n",
    "\n",
    "a8 = cramer_v(a['assortment'], a['store_type'])\n",
    "\n",
    "a9 = cramer_v(a['assortment'], a['assortment'])"
   ]
  },
  {
   "cell_type": "code",
   "execution_count": 164,
   "metadata": {
    "ExecuteTime": {
     "end_time": "2020-12-13T06:17:39.155601Z",
     "start_time": "2020-12-13T06:15:53.681902Z"
    }
   },
   "outputs": [],
   "source": [
    "cat_list = cat_attributes_sessions.drop('user_id', axis=1).columns.tolist()\n",
    "corr_dict = {}\n",
    "\n",
    "for i in range(len(cat_list)):\n",
    "    corr_list = []\n",
    "    for j in range(len(cat_list)):\n",
    "        ref = cat_list[i]\n",
    "        feat = cat_list[j]\n",
    "        \n",
    "        # correlation\n",
    "        corr = cramer_v (cat_attributes_sessions[ref], cat_attributes_sessions[feat])\n",
    "        \n",
    "        # append a list\n",
    "        corr_list.append(corr)\n",
    "        \n",
    "    # append a correlation list for each ref attributes\n",
    "    corr_dict[ref] = corr_list"
   ]
  },
  {
   "cell_type": "code",
   "execution_count": 165,
   "metadata": {
    "ExecuteTime": {
     "end_time": "2020-12-13T06:19:58.995896Z",
     "start_time": "2020-12-13T06:19:57.767331Z"
    }
   },
   "outputs": [
    {
     "data": {
      "text/plain": [
       "<AxesSubplot:>"
      ]
     },
     "execution_count": 165,
     "metadata": {},
     "output_type": "execute_result"
    },
    {
     "data": {
      "image/png": "[encoded data removed]",
      "text/plain": [
       "<Figure size 1800x864 with 2 Axes>"
      ]
     },
     "metadata": {},
     "output_type": "display_data"
    }
   ],
   "source": [
    "d = pd.DataFrame(corr_dict)\n",
    "d = d.set_index(d.columns)\n",
    "sns.heatmap(d, annot=True)"
   ]
  },
  {
   "cell_type": "markdown",
   "metadata": {},
   "source": [
    "# 3. Filter"
   ]
  },
  {
   "cell_type": "code",
   "execution_count": 166,
   "metadata": {
    "ExecuteTime": {
     "end_time": "2020-12-13T06:20:49.388384Z",
     "start_time": "2020-12-13T06:20:49.192508Z"
    }
   },
   "outputs": [],
   "source": [
    "df2 = df1.copy()"
   ]
  },
  {
   "cell_type": "markdown",
   "metadata": {},
   "source": [
    "## 3.1. Filtering rows"
   ]
  },
  {
   "cell_type": "code",
   "execution_count": 169,
   "metadata": {
    "ExecuteTime": {
     "end_time": "2020-12-13T06:23:30.700032Z",
     "start_time": "2020-12-13T06:23:30.648067Z"
    }
   },
   "outputs": [],
   "source": [
    "df2 = df2[(df2['age'] > 15) & (df2['age'] < 120)]"
   ]
  },
  {
   "cell_type": "markdown",
   "metadata": {},
   "source": [
    "## 3.2. Filtering Columns"
   ]
  },
  {
   "cell_type": "markdown",
   "metadata": {},
   "source": [
    "# 4. Data Preparation"
   ]
  },
  {
   "cell_type": "code",
   "execution_count": 170,
   "metadata": {
    "ExecuteTime": {
     "end_time": "2020-12-13T06:23:50.295590Z",
     "start_time": "2020-12-13T06:23:50.266607Z"
    }
   },
   "outputs": [],
   "source": [
    "df3 = df2.copy()"
   ]
  },
  {
   "cell_type": "code",
   "execution_count": 171,
   "metadata": {
    "ExecuteTime": {
     "end_time": "2020-12-13T06:23:51.579794Z",
     "start_time": "2020-12-13T06:23:51.049122Z"
    }
   },
   "outputs": [],
   "source": [
    "# dummie variables\n",
    "df3_dummies = pd.get_dummies(df3.drop(['id', 'country_destination'], axis=1))"
   ]
  },
  {
   "cell_type": "code",
   "execution_count": 172,
   "metadata": {
    "ExecuteTime": {
     "end_time": "2020-12-13T06:23:51.790664Z",
     "start_time": "2020-12-13T06:23:51.698720Z"
    }
   },
   "outputs": [],
   "source": [
    "# join id and country\n",
    "df3 = pd.concat([df3[['id', 'country_destination']], df3_dummies], axis=1)"
   ]
  },
  {
   "cell_type": "code",
   "execution_count": 173,
   "metadata": {
    "ExecuteTime": {
     "end_time": "2020-12-13T06:23:52.623148Z",
     "start_time": "2020-12-13T06:23:52.610157Z"
    }
   },
   "outputs": [
    {
     "data": {
      "text/plain": [
       "(122636, 125)"
      ]
     },
     "execution_count": 173,
     "metadata": {},
     "output_type": "execute_result"
    }
   ],
   "source": [
    "df3.shape"
   ]
  },
  {
   "cell_type": "code",
   "execution_count": 174,
   "metadata": {
    "ExecuteTime": {
     "end_time": "2020-12-13T06:23:55.151607Z",
     "start_time": "2020-12-13T06:23:54.838801Z"
    }
   },
   "outputs": [
    {
     "data": {
      "text/html": [
       "<div>\n",
       "<style scoped>\n",
       "    .dataframe tbody tr th:only-of-type {\n",
       "        vertical-align: middle;\n",
       "    }\n",
       "\n",
       "    .dataframe tbody tr th {\n",
       "        vertical-align: top;\n",
       "    }\n",
       "\n",
       "    .dataframe thead th {\n",
       "        text-align: right;\n",
       "    }\n",
       "</style>\n",
       "<table border=\"1\" class=\"dataframe\">\n",
       "  <thead>\n",
       "    <tr style=\"text-align: right;\">\n",
       "      <th></th>\n",
       "      <th>id</th>\n",
       "      <th>country_destination</th>\n",
       "      <th>date_account_created</th>\n",
       "      <th>timestamp_first_active</th>\n",
       "      <th>date_first_booking</th>\n",
       "      <th>age</th>\n",
       "      <th>signup_flow</th>\n",
       "      <th>gender_-unknown-</th>\n",
       "      <th>gender_FEMALE</th>\n",
       "      <th>gender_MALE</th>\n",
       "      <th>gender_OTHER</th>\n",
       "      <th>signup_method_basic</th>\n",
       "      <th>signup_method_facebook</th>\n",
       "      <th>signup_method_google</th>\n",
       "      <th>language_ca</th>\n",
       "      <th>language_cs</th>\n",
       "      <th>language_da</th>\n",
       "      <th>language_de</th>\n",
       "      <th>language_el</th>\n",
       "      <th>language_en</th>\n",
       "      <th>language_es</th>\n",
       "      <th>language_fi</th>\n",
       "      <th>language_fr</th>\n",
       "      <th>language_hr</th>\n",
       "      <th>language_hu</th>\n",
       "      <th>language_id</th>\n",
       "      <th>language_is</th>\n",
       "      <th>language_it</th>\n",
       "      <th>language_ja</th>\n",
       "      <th>language_ko</th>\n",
       "      <th>language_nl</th>\n",
       "      <th>language_no</th>\n",
       "      <th>language_pl</th>\n",
       "      <th>language_pt</th>\n",
       "      <th>language_ru</th>\n",
       "      <th>language_sv</th>\n",
       "      <th>language_th</th>\n",
       "      <th>language_tr</th>\n",
       "      <th>language_zh</th>\n",
       "      <th>affiliate_channel_api</th>\n",
       "      <th>affiliate_channel_content</th>\n",
       "      <th>affiliate_channel_direct</th>\n",
       "      <th>affiliate_channel_other</th>\n",
       "      <th>affiliate_channel_remarketing</th>\n",
       "      <th>affiliate_channel_sem-brand</th>\n",
       "      <th>affiliate_channel_sem-non-brand</th>\n",
       "      <th>affiliate_channel_seo</th>\n",
       "      <th>affiliate_provider_baidu</th>\n",
       "      <th>affiliate_provider_bing</th>\n",
       "      <th>affiliate_provider_craigslist</th>\n",
       "      <th>affiliate_provider_direct</th>\n",
       "      <th>affiliate_provider_email-marketing</th>\n",
       "      <th>affiliate_provider_facebook</th>\n",
       "      <th>affiliate_provider_facebook-open-graph</th>\n",
       "      <th>affiliate_provider_google</th>\n",
       "      <th>affiliate_provider_gsp</th>\n",
       "      <th>affiliate_provider_meetup</th>\n",
       "      <th>affiliate_provider_naver</th>\n",
       "      <th>affiliate_provider_other</th>\n",
       "      <th>affiliate_provider_padmapper</th>\n",
       "      <th>affiliate_provider_vast</th>\n",
       "      <th>affiliate_provider_wayn</th>\n",
       "      <th>affiliate_provider_yahoo</th>\n",
       "      <th>affiliate_provider_yandex</th>\n",
       "      <th>first_affiliate_tracked_linked</th>\n",
       "      <th>first_affiliate_tracked_local ops</th>\n",
       "      <th>first_affiliate_tracked_marketing</th>\n",
       "      <th>first_affiliate_tracked_omg</th>\n",
       "      <th>first_affiliate_tracked_product</th>\n",
       "      <th>first_affiliate_tracked_tracked-other</th>\n",
       "      <th>first_affiliate_tracked_untracked</th>\n",
       "      <th>signup_app_Android</th>\n",
       "      <th>signup_app_Moweb</th>\n",
       "      <th>signup_app_Web</th>\n",
       "      <th>signup_app_iOS</th>\n",
       "      <th>first_device_type_Android Phone</th>\n",
       "      <th>first_device_type_Android Tablet</th>\n",
       "      <th>first_device_type_Desktop (Other)</th>\n",
       "      <th>first_device_type_Mac Desktop</th>\n",
       "      <th>first_device_type_Other/Unknown</th>\n",
       "      <th>first_device_type_SmartPhone (Other)</th>\n",
       "      <th>first_device_type_Windows Desktop</th>\n",
       "      <th>first_device_type_iPad</th>\n",
       "      <th>first_device_type_iPhone</th>\n",
       "      <th>first_browser_-unknown-</th>\n",
       "      <th>first_browser_AOL Explorer</th>\n",
       "      <th>first_browser_Android Browser</th>\n",
       "      <th>first_browser_Apple Mail</th>\n",
       "      <th>first_browser_Avant Browser</th>\n",
       "      <th>first_browser_BlackBerry Browser</th>\n",
       "      <th>first_browser_Camino</th>\n",
       "      <th>first_browser_Chrome</th>\n",
       "      <th>first_browser_Chrome Mobile</th>\n",
       "      <th>first_browser_Chromium</th>\n",
       "      <th>first_browser_CometBird</th>\n",
       "      <th>first_browser_Comodo Dragon</th>\n",
       "      <th>first_browser_CoolNovo</th>\n",
       "      <th>first_browser_Firefox</th>\n",
       "      <th>first_browser_IE</th>\n",
       "      <th>first_browser_IE Mobile</th>\n",
       "      <th>first_browser_IceWeasel</th>\n",
       "      <th>first_browser_Iron</th>\n",
       "      <th>first_browser_Kindle Browser</th>\n",
       "      <th>first_browser_Maxthon</th>\n",
       "      <th>first_browser_Mobile Firefox</th>\n",
       "      <th>first_browser_Mobile Safari</th>\n",
       "      <th>first_browser_Mozilla</th>\n",
       "      <th>first_browser_NetNewsWire</th>\n",
       "      <th>first_browser_Opera</th>\n",
       "      <th>first_browser_Opera Mini</th>\n",
       "      <th>first_browser_Opera Mobile</th>\n",
       "      <th>first_browser_PS Vita browser</th>\n",
       "      <th>first_browser_Pale Moon</th>\n",
       "      <th>first_browser_RockMelt</th>\n",
       "      <th>first_browser_Safari</th>\n",
       "      <th>first_browser_SeaMonkey</th>\n",
       "      <th>first_browser_Silk</th>\n",
       "      <th>first_browser_SiteKiosk</th>\n",
       "      <th>first_browser_SlimBrowser</th>\n",
       "      <th>first_browser_Sogou Explorer</th>\n",
       "      <th>first_browser_Stainless</th>\n",
       "      <th>first_browser_TenFourFox</th>\n",
       "      <th>first_browser_TheWorld Browser</th>\n",
       "      <th>first_browser_Yandex.Browser</th>\n",
       "      <th>first_browser_wOSBrowser</th>\n",
       "    </tr>\n",
       "  </thead>\n",
       "  <tbody>\n",
       "    <tr>\n",
       "      <th>1</th>\n",
       "      <td>820tgsjxq7</td>\n",
       "      <td>NDF</td>\n",
       "      <td>2011-05-25</td>\n",
       "      <td>2009-05-23 17:48:09</td>\n",
       "      <td>2015-06-29</td>\n",
       "      <td>38</td>\n",
       "      <td>0</td>\n",
       "      <td>0</td>\n",
       "      <td>0</td>\n",
       "      <td>1</td>\n",
       "      <td>0</td>\n",
       "      <td>0</td>\n",
       "      <td>1</td>\n",
       "      <td>0</td>\n",
       "      <td>0</td>\n",
       "      <td>0</td>\n",
       "      <td>0</td>\n",
       "      <td>0</td>\n",
       "      <td>0</td>\n",
       "      <td>1</td>\n",
       "      <td>0</td>\n",
       "      <td>0</td>\n",
       "      <td>0</td>\n",
       "      <td>0</td>\n",
       "      <td>0</td>\n",
       "      <td>0</td>\n",
       "      <td>0</td>\n",
       "      <td>0</td>\n",
       "      <td>0</td>\n",
       "      <td>0</td>\n",
       "      <td>0</td>\n",
       "      <td>0</td>\n",
       "      <td>0</td>\n",
       "      <td>0</td>\n",
       "      <td>0</td>\n",
       "      <td>0</td>\n",
       "      <td>0</td>\n",
       "      <td>0</td>\n",
       "      <td>0</td>\n",
       "      <td>0</td>\n",
       "      <td>0</td>\n",
       "      <td>0</td>\n",
       "      <td>0</td>\n",
       "      <td>0</td>\n",
       "      <td>0</td>\n",
       "      <td>0</td>\n",
       "      <td>1</td>\n",
       "      <td>0</td>\n",
       "      <td>0</td>\n",
       "      <td>0</td>\n",
       "      <td>0</td>\n",
       "      <td>0</td>\n",
       "      <td>0</td>\n",
       "      <td>0</td>\n",
       "      <td>1</td>\n",
       "      <td>0</td>\n",
       "      <td>0</td>\n",
       "      <td>0</td>\n",
       "      <td>0</td>\n",
       "      <td>0</td>\n",
       "      <td>0</td>\n",
       "      <td>0</td>\n",
       "      <td>0</td>\n",
       "      <td>0</td>\n",
       "      <td>0</td>\n",
       "      <td>0</td>\n",
       "      <td>0</td>\n",
       "      <td>0</td>\n",
       "      <td>0</td>\n",
       "      <td>0</td>\n",
       "      <td>1</td>\n",
       "      <td>0</td>\n",
       "      <td>0</td>\n",
       "      <td>1</td>\n",
       "      <td>0</td>\n",
       "      <td>0</td>\n",
       "      <td>0</td>\n",
       "      <td>0</td>\n",
       "      <td>1</td>\n",
       "      <td>0</td>\n",
       "      <td>0</td>\n",
       "      <td>0</td>\n",
       "      <td>0</td>\n",
       "      <td>0</td>\n",
       "      <td>0</td>\n",
       "      <td>0</td>\n",
       "      <td>0</td>\n",
       "      <td>0</td>\n",
       "      <td>0</td>\n",
       "      <td>0</td>\n",
       "      <td>0</td>\n",
       "      <td>1</td>\n",
       "      <td>0</td>\n",
       "      <td>0</td>\n",
       "      <td>0</td>\n",
       "      <td>0</td>\n",
       "      <td>0</td>\n",
       "      <td>0</td>\n",
       "      <td>0</td>\n",
       "      <td>0</td>\n",
       "      <td>0</td>\n",
       "      <td>0</td>\n",
       "      <td>0</td>\n",
       "      <td>0</td>\n",
       "      <td>0</td>\n",
       "      <td>0</td>\n",
       "      <td>0</td>\n",
       "      <td>0</td>\n",
       "      <td>0</td>\n",
       "      <td>0</td>\n",
       "      <td>0</td>\n",
       "      <td>0</td>\n",
       "      <td>0</td>\n",
       "      <td>0</td>\n",
       "      <td>0</td>\n",
       "      <td>0</td>\n",
       "      <td>0</td>\n",
       "      <td>0</td>\n",
       "      <td>0</td>\n",
       "      <td>0</td>\n",
       "      <td>0</td>\n",
       "      <td>0</td>\n",
       "      <td>0</td>\n",
       "      <td>0</td>\n",
       "      <td>0</td>\n",
       "    </tr>\n",
       "    <tr>\n",
       "      <th>2</th>\n",
       "      <td>4ft3gnwmtx</td>\n",
       "      <td>US</td>\n",
       "      <td>2010-09-28</td>\n",
       "      <td>2009-06-09 23:12:47</td>\n",
       "      <td>2010-08-02</td>\n",
       "      <td>56</td>\n",
       "      <td>3</td>\n",
       "      <td>0</td>\n",
       "      <td>1</td>\n",
       "      <td>0</td>\n",
       "      <td>0</td>\n",
       "      <td>1</td>\n",
       "      <td>0</td>\n",
       "      <td>0</td>\n",
       "      <td>0</td>\n",
       "      <td>0</td>\n",
       "      <td>0</td>\n",
       "      <td>0</td>\n",
       "      <td>0</td>\n",
       "      <td>1</td>\n",
       "      <td>0</td>\n",
       "      <td>0</td>\n",
       "      <td>0</td>\n",
       "      <td>0</td>\n",
       "      <td>0</td>\n",
       "      <td>0</td>\n",
       "      <td>0</td>\n",
       "      <td>0</td>\n",
       "      <td>0</td>\n",
       "      <td>0</td>\n",
       "      <td>0</td>\n",
       "      <td>0</td>\n",
       "      <td>0</td>\n",
       "      <td>0</td>\n",
       "      <td>0</td>\n",
       "      <td>0</td>\n",
       "      <td>0</td>\n",
       "      <td>0</td>\n",
       "      <td>0</td>\n",
       "      <td>0</td>\n",
       "      <td>0</td>\n",
       "      <td>1</td>\n",
       "      <td>0</td>\n",
       "      <td>0</td>\n",
       "      <td>0</td>\n",
       "      <td>0</td>\n",
       "      <td>0</td>\n",
       "      <td>0</td>\n",
       "      <td>0</td>\n",
       "      <td>0</td>\n",
       "      <td>1</td>\n",
       "      <td>0</td>\n",
       "      <td>0</td>\n",
       "      <td>0</td>\n",
       "      <td>0</td>\n",
       "      <td>0</td>\n",
       "      <td>0</td>\n",
       "      <td>0</td>\n",
       "      <td>0</td>\n",
       "      <td>0</td>\n",
       "      <td>0</td>\n",
       "      <td>0</td>\n",
       "      <td>0</td>\n",
       "      <td>0</td>\n",
       "      <td>0</td>\n",
       "      <td>0</td>\n",
       "      <td>0</td>\n",
       "      <td>0</td>\n",
       "      <td>0</td>\n",
       "      <td>0</td>\n",
       "      <td>1</td>\n",
       "      <td>0</td>\n",
       "      <td>0</td>\n",
       "      <td>1</td>\n",
       "      <td>0</td>\n",
       "      <td>0</td>\n",
       "      <td>0</td>\n",
       "      <td>0</td>\n",
       "      <td>0</td>\n",
       "      <td>0</td>\n",
       "      <td>0</td>\n",
       "      <td>1</td>\n",
       "      <td>0</td>\n",
       "      <td>0</td>\n",
       "      <td>0</td>\n",
       "      <td>0</td>\n",
       "      <td>0</td>\n",
       "      <td>0</td>\n",
       "      <td>0</td>\n",
       "      <td>0</td>\n",
       "      <td>0</td>\n",
       "      <td>0</td>\n",
       "      <td>0</td>\n",
       "      <td>0</td>\n",
       "      <td>0</td>\n",
       "      <td>0</td>\n",
       "      <td>0</td>\n",
       "      <td>0</td>\n",
       "      <td>1</td>\n",
       "      <td>0</td>\n",
       "      <td>0</td>\n",
       "      <td>0</td>\n",
       "      <td>0</td>\n",
       "      <td>0</td>\n",
       "      <td>0</td>\n",
       "      <td>0</td>\n",
       "      <td>0</td>\n",
       "      <td>0</td>\n",
       "      <td>0</td>\n",
       "      <td>0</td>\n",
       "      <td>0</td>\n",
       "      <td>0</td>\n",
       "      <td>0</td>\n",
       "      <td>0</td>\n",
       "      <td>0</td>\n",
       "      <td>0</td>\n",
       "      <td>0</td>\n",
       "      <td>0</td>\n",
       "      <td>0</td>\n",
       "      <td>0</td>\n",
       "      <td>0</td>\n",
       "      <td>0</td>\n",
       "      <td>0</td>\n",
       "      <td>0</td>\n",
       "      <td>0</td>\n",
       "    </tr>\n",
       "    <tr>\n",
       "      <th>3</th>\n",
       "      <td>bjjt8pjhuk</td>\n",
       "      <td>other</td>\n",
       "      <td>2011-12-05</td>\n",
       "      <td>2009-10-31 06:01:29</td>\n",
       "      <td>2012-09-08</td>\n",
       "      <td>42</td>\n",
       "      <td>0</td>\n",
       "      <td>0</td>\n",
       "      <td>1</td>\n",
       "      <td>0</td>\n",
       "      <td>0</td>\n",
       "      <td>0</td>\n",
       "      <td>1</td>\n",
       "      <td>0</td>\n",
       "      <td>0</td>\n",
       "      <td>0</td>\n",
       "      <td>0</td>\n",
       "      <td>0</td>\n",
       "      <td>0</td>\n",
       "      <td>1</td>\n",
       "      <td>0</td>\n",
       "      <td>0</td>\n",
       "      <td>0</td>\n",
       "      <td>0</td>\n",
       "      <td>0</td>\n",
       "      <td>0</td>\n",
       "      <td>0</td>\n",
       "      <td>0</td>\n",
       "      <td>0</td>\n",
       "      <td>0</td>\n",
       "      <td>0</td>\n",
       "      <td>0</td>\n",
       "      <td>0</td>\n",
       "      <td>0</td>\n",
       "      <td>0</td>\n",
       "      <td>0</td>\n",
       "      <td>0</td>\n",
       "      <td>0</td>\n",
       "      <td>0</td>\n",
       "      <td>0</td>\n",
       "      <td>0</td>\n",
       "      <td>1</td>\n",
       "      <td>0</td>\n",
       "      <td>0</td>\n",
       "      <td>0</td>\n",
       "      <td>0</td>\n",
       "      <td>0</td>\n",
       "      <td>0</td>\n",
       "      <td>0</td>\n",
       "      <td>0</td>\n",
       "      <td>1</td>\n",
       "      <td>0</td>\n",
       "      <td>0</td>\n",
       "      <td>0</td>\n",
       "      <td>0</td>\n",
       "      <td>0</td>\n",
       "      <td>0</td>\n",
       "      <td>0</td>\n",
       "      <td>0</td>\n",
       "      <td>0</td>\n",
       "      <td>0</td>\n",
       "      <td>0</td>\n",
       "      <td>0</td>\n",
       "      <td>0</td>\n",
       "      <td>0</td>\n",
       "      <td>0</td>\n",
       "      <td>0</td>\n",
       "      <td>0</td>\n",
       "      <td>0</td>\n",
       "      <td>0</td>\n",
       "      <td>1</td>\n",
       "      <td>0</td>\n",
       "      <td>0</td>\n",
       "      <td>1</td>\n",
       "      <td>0</td>\n",
       "      <td>0</td>\n",
       "      <td>0</td>\n",
       "      <td>0</td>\n",
       "      <td>1</td>\n",
       "      <td>0</td>\n",
       "      <td>0</td>\n",
       "      <td>0</td>\n",
       "      <td>0</td>\n",
       "      <td>0</td>\n",
       "      <td>0</td>\n",
       "      <td>0</td>\n",
       "      <td>0</td>\n",
       "      <td>0</td>\n",
       "      <td>0</td>\n",
       "      <td>0</td>\n",
       "      <td>0</td>\n",
       "      <td>0</td>\n",
       "      <td>0</td>\n",
       "      <td>0</td>\n",
       "      <td>0</td>\n",
       "      <td>0</td>\n",
       "      <td>0</td>\n",
       "      <td>1</td>\n",
       "      <td>0</td>\n",
       "      <td>0</td>\n",
       "      <td>0</td>\n",
       "      <td>0</td>\n",
       "      <td>0</td>\n",
       "      <td>0</td>\n",
       "      <td>0</td>\n",
       "      <td>0</td>\n",
       "      <td>0</td>\n",
       "      <td>0</td>\n",
       "      <td>0</td>\n",
       "      <td>0</td>\n",
       "      <td>0</td>\n",
       "      <td>0</td>\n",
       "      <td>0</td>\n",
       "      <td>0</td>\n",
       "      <td>0</td>\n",
       "      <td>0</td>\n",
       "      <td>0</td>\n",
       "      <td>0</td>\n",
       "      <td>0</td>\n",
       "      <td>0</td>\n",
       "      <td>0</td>\n",
       "      <td>0</td>\n",
       "      <td>0</td>\n",
       "      <td>0</td>\n",
       "      <td>0</td>\n",
       "    </tr>\n",
       "    <tr>\n",
       "      <th>4</th>\n",
       "      <td>87mebub9p4</td>\n",
       "      <td>US</td>\n",
       "      <td>2010-09-14</td>\n",
       "      <td>2009-12-08 06:11:05</td>\n",
       "      <td>2010-02-18</td>\n",
       "      <td>41</td>\n",
       "      <td>0</td>\n",
       "      <td>1</td>\n",
       "      <td>0</td>\n",
       "      <td>0</td>\n",
       "      <td>0</td>\n",
       "      <td>1</td>\n",
       "      <td>0</td>\n",
       "      <td>0</td>\n",
       "      <td>0</td>\n",
       "      <td>0</td>\n",
       "      <td>0</td>\n",
       "      <td>0</td>\n",
       "      <td>0</td>\n",
       "      <td>1</td>\n",
       "      <td>0</td>\n",
       "      <td>0</td>\n",
       "      <td>0</td>\n",
       "      <td>0</td>\n",
       "      <td>0</td>\n",
       "      <td>0</td>\n",
       "      <td>0</td>\n",
       "      <td>0</td>\n",
       "      <td>0</td>\n",
       "      <td>0</td>\n",
       "      <td>0</td>\n",
       "      <td>0</td>\n",
       "      <td>0</td>\n",
       "      <td>0</td>\n",
       "      <td>0</td>\n",
       "      <td>0</td>\n",
       "      <td>0</td>\n",
       "      <td>0</td>\n",
       "      <td>0</td>\n",
       "      <td>0</td>\n",
       "      <td>0</td>\n",
       "      <td>1</td>\n",
       "      <td>0</td>\n",
       "      <td>0</td>\n",
       "      <td>0</td>\n",
       "      <td>0</td>\n",
       "      <td>0</td>\n",
       "      <td>0</td>\n",
       "      <td>0</td>\n",
       "      <td>0</td>\n",
       "      <td>1</td>\n",
       "      <td>0</td>\n",
       "      <td>0</td>\n",
       "      <td>0</td>\n",
       "      <td>0</td>\n",
       "      <td>0</td>\n",
       "      <td>0</td>\n",
       "      <td>0</td>\n",
       "      <td>0</td>\n",
       "      <td>0</td>\n",
       "      <td>0</td>\n",
       "      <td>0</td>\n",
       "      <td>0</td>\n",
       "      <td>0</td>\n",
       "      <td>0</td>\n",
       "      <td>0</td>\n",
       "      <td>0</td>\n",
       "      <td>0</td>\n",
       "      <td>0</td>\n",
       "      <td>0</td>\n",
       "      <td>1</td>\n",
       "      <td>0</td>\n",
       "      <td>0</td>\n",
       "      <td>1</td>\n",
       "      <td>0</td>\n",
       "      <td>0</td>\n",
       "      <td>0</td>\n",
       "      <td>0</td>\n",
       "      <td>1</td>\n",
       "      <td>0</td>\n",
       "      <td>0</td>\n",
       "      <td>0</td>\n",
       "      <td>0</td>\n",
       "      <td>0</td>\n",
       "      <td>0</td>\n",
       "      <td>0</td>\n",
       "      <td>0</td>\n",
       "      <td>0</td>\n",
       "      <td>0</td>\n",
       "      <td>0</td>\n",
       "      <td>0</td>\n",
       "      <td>1</td>\n",
       "      <td>0</td>\n",
       "      <td>0</td>\n",
       "      <td>0</td>\n",
       "      <td>0</td>\n",
       "      <td>0</td>\n",
       "      <td>0</td>\n",
       "      <td>0</td>\n",
       "      <td>0</td>\n",
       "      <td>0</td>\n",
       "      <td>0</td>\n",
       "      <td>0</td>\n",
       "      <td>0</td>\n",
       "      <td>0</td>\n",
       "      <td>0</td>\n",
       "      <td>0</td>\n",
       "      <td>0</td>\n",
       "      <td>0</td>\n",
       "      <td>0</td>\n",
       "      <td>0</td>\n",
       "      <td>0</td>\n",
       "      <td>0</td>\n",
       "      <td>0</td>\n",
       "      <td>0</td>\n",
       "      <td>0</td>\n",
       "      <td>0</td>\n",
       "      <td>0</td>\n",
       "      <td>0</td>\n",
       "      <td>0</td>\n",
       "      <td>0</td>\n",
       "      <td>0</td>\n",
       "      <td>0</td>\n",
       "      <td>0</td>\n",
       "      <td>0</td>\n",
       "    </tr>\n",
       "    <tr>\n",
       "      <th>6</th>\n",
       "      <td>lsw9q7uk0j</td>\n",
       "      <td>US</td>\n",
       "      <td>2010-01-02</td>\n",
       "      <td>2010-01-02 01:25:58</td>\n",
       "      <td>2010-01-05</td>\n",
       "      <td>46</td>\n",
       "      <td>0</td>\n",
       "      <td>0</td>\n",
       "      <td>1</td>\n",
       "      <td>0</td>\n",
       "      <td>0</td>\n",
       "      <td>1</td>\n",
       "      <td>0</td>\n",
       "      <td>0</td>\n",
       "      <td>0</td>\n",
       "      <td>0</td>\n",
       "      <td>0</td>\n",
       "      <td>0</td>\n",
       "      <td>0</td>\n",
       "      <td>1</td>\n",
       "      <td>0</td>\n",
       "      <td>0</td>\n",
       "      <td>0</td>\n",
       "      <td>0</td>\n",
       "      <td>0</td>\n",
       "      <td>0</td>\n",
       "      <td>0</td>\n",
       "      <td>0</td>\n",
       "      <td>0</td>\n",
       "      <td>0</td>\n",
       "      <td>0</td>\n",
       "      <td>0</td>\n",
       "      <td>0</td>\n",
       "      <td>0</td>\n",
       "      <td>0</td>\n",
       "      <td>0</td>\n",
       "      <td>0</td>\n",
       "      <td>0</td>\n",
       "      <td>0</td>\n",
       "      <td>0</td>\n",
       "      <td>0</td>\n",
       "      <td>0</td>\n",
       "      <td>1</td>\n",
       "      <td>0</td>\n",
       "      <td>0</td>\n",
       "      <td>0</td>\n",
       "      <td>0</td>\n",
       "      <td>0</td>\n",
       "      <td>0</td>\n",
       "      <td>1</td>\n",
       "      <td>0</td>\n",
       "      <td>0</td>\n",
       "      <td>0</td>\n",
       "      <td>0</td>\n",
       "      <td>0</td>\n",
       "      <td>0</td>\n",
       "      <td>0</td>\n",
       "      <td>0</td>\n",
       "      <td>0</td>\n",
       "      <td>0</td>\n",
       "      <td>0</td>\n",
       "      <td>0</td>\n",
       "      <td>0</td>\n",
       "      <td>0</td>\n",
       "      <td>0</td>\n",
       "      <td>0</td>\n",
       "      <td>0</td>\n",
       "      <td>0</td>\n",
       "      <td>0</td>\n",
       "      <td>0</td>\n",
       "      <td>1</td>\n",
       "      <td>0</td>\n",
       "      <td>0</td>\n",
       "      <td>1</td>\n",
       "      <td>0</td>\n",
       "      <td>0</td>\n",
       "      <td>0</td>\n",
       "      <td>0</td>\n",
       "      <td>1</td>\n",
       "      <td>0</td>\n",
       "      <td>0</td>\n",
       "      <td>0</td>\n",
       "      <td>0</td>\n",
       "      <td>0</td>\n",
       "      <td>0</td>\n",
       "      <td>0</td>\n",
       "      <td>0</td>\n",
       "      <td>0</td>\n",
       "      <td>0</td>\n",
       "      <td>0</td>\n",
       "      <td>0</td>\n",
       "      <td>0</td>\n",
       "      <td>0</td>\n",
       "      <td>0</td>\n",
       "      <td>0</td>\n",
       "      <td>0</td>\n",
       "      <td>0</td>\n",
       "      <td>0</td>\n",
       "      <td>0</td>\n",
       "      <td>0</td>\n",
       "      <td>0</td>\n",
       "      <td>0</td>\n",
       "      <td>0</td>\n",
       "      <td>0</td>\n",
       "      <td>0</td>\n",
       "      <td>0</td>\n",
       "      <td>0</td>\n",
       "      <td>0</td>\n",
       "      <td>0</td>\n",
       "      <td>0</td>\n",
       "      <td>0</td>\n",
       "      <td>0</td>\n",
       "      <td>0</td>\n",
       "      <td>0</td>\n",
       "      <td>1</td>\n",
       "      <td>0</td>\n",
       "      <td>0</td>\n",
       "      <td>0</td>\n",
       "      <td>0</td>\n",
       "      <td>0</td>\n",
       "      <td>0</td>\n",
       "      <td>0</td>\n",
       "      <td>0</td>\n",
       "      <td>0</td>\n",
       "      <td>0</td>\n",
       "    </tr>\n",
       "    <tr>\n",
       "      <th>...</th>\n",
       "      <td>...</td>\n",
       "      <td>...</td>\n",
       "      <td>...</td>\n",
       "      <td>...</td>\n",
       "      <td>...</td>\n",
       "      <td>...</td>\n",
       "      <td>...</td>\n",
       "      <td>...</td>\n",
       "      <td>...</td>\n",
       "      <td>...</td>\n",
       "      <td>...</td>\n",
       "      <td>...</td>\n",
       "      <td>...</td>\n",
       "      <td>...</td>\n",
       "      <td>...</td>\n",
       "      <td>...</td>\n",
       "      <td>...</td>\n",
       "      <td>...</td>\n",
       "      <td>...</td>\n",
       "      <td>...</td>\n",
       "      <td>...</td>\n",
       "      <td>...</td>\n",
       "      <td>...</td>\n",
       "      <td>...</td>\n",
       "      <td>...</td>\n",
       "      <td>...</td>\n",
       "      <td>...</td>\n",
       "      <td>...</td>\n",
       "      <td>...</td>\n",
       "      <td>...</td>\n",
       "      <td>...</td>\n",
       "      <td>...</td>\n",
       "      <td>...</td>\n",
       "      <td>...</td>\n",
       "      <td>...</td>\n",
       "      <td>...</td>\n",
       "      <td>...</td>\n",
       "      <td>...</td>\n",
       "      <td>...</td>\n",
       "      <td>...</td>\n",
       "      <td>...</td>\n",
       "      <td>...</td>\n",
       "      <td>...</td>\n",
       "      <td>...</td>\n",
       "      <td>...</td>\n",
       "      <td>...</td>\n",
       "      <td>...</td>\n",
       "      <td>...</td>\n",
       "      <td>...</td>\n",
       "      <td>...</td>\n",
       "      <td>...</td>\n",
       "      <td>...</td>\n",
       "      <td>...</td>\n",
       "      <td>...</td>\n",
       "      <td>...</td>\n",
       "      <td>...</td>\n",
       "      <td>...</td>\n",
       "      <td>...</td>\n",
       "      <td>...</td>\n",
       "      <td>...</td>\n",
       "      <td>...</td>\n",
       "      <td>...</td>\n",
       "      <td>...</td>\n",
       "      <td>...</td>\n",
       "      <td>...</td>\n",
       "      <td>...</td>\n",
       "      <td>...</td>\n",
       "      <td>...</td>\n",
       "      <td>...</td>\n",
       "      <td>...</td>\n",
       "      <td>...</td>\n",
       "      <td>...</td>\n",
       "      <td>...</td>\n",
       "      <td>...</td>\n",
       "      <td>...</td>\n",
       "      <td>...</td>\n",
       "      <td>...</td>\n",
       "      <td>...</td>\n",
       "      <td>...</td>\n",
       "      <td>...</td>\n",
       "      <td>...</td>\n",
       "      <td>...</td>\n",
       "      <td>...</td>\n",
       "      <td>...</td>\n",
       "      <td>...</td>\n",
       "      <td>...</td>\n",
       "      <td>...</td>\n",
       "      <td>...</td>\n",
       "      <td>...</td>\n",
       "      <td>...</td>\n",
       "      <td>...</td>\n",
       "      <td>...</td>\n",
       "      <td>...</td>\n",
       "      <td>...</td>\n",
       "      <td>...</td>\n",
       "      <td>...</td>\n",
       "      <td>...</td>\n",
       "      <td>...</td>\n",
       "      <td>...</td>\n",
       "      <td>...</td>\n",
       "      <td>...</td>\n",
       "      <td>...</td>\n",
       "      <td>...</td>\n",
       "      <td>...</td>\n",
       "      <td>...</td>\n",
       "      <td>...</td>\n",
       "      <td>...</td>\n",
       "      <td>...</td>\n",
       "      <td>...</td>\n",
       "      <td>...</td>\n",
       "      <td>...</td>\n",
       "      <td>...</td>\n",
       "      <td>...</td>\n",
       "      <td>...</td>\n",
       "      <td>...</td>\n",
       "      <td>...</td>\n",
       "      <td>...</td>\n",
       "      <td>...</td>\n",
       "      <td>...</td>\n",
       "      <td>...</td>\n",
       "      <td>...</td>\n",
       "      <td>...</td>\n",
       "      <td>...</td>\n",
       "      <td>...</td>\n",
       "      <td>...</td>\n",
       "    </tr>\n",
       "    <tr>\n",
       "      <th>213441</th>\n",
       "      <td>omlc9iku7t</td>\n",
       "      <td>ES</td>\n",
       "      <td>2014-06-30</td>\n",
       "      <td>2014-06-30 23:51:51</td>\n",
       "      <td>2014-08-13</td>\n",
       "      <td>34</td>\n",
       "      <td>0</td>\n",
       "      <td>0</td>\n",
       "      <td>1</td>\n",
       "      <td>0</td>\n",
       "      <td>0</td>\n",
       "      <td>1</td>\n",
       "      <td>0</td>\n",
       "      <td>0</td>\n",
       "      <td>0</td>\n",
       "      <td>0</td>\n",
       "      <td>0</td>\n",
       "      <td>0</td>\n",
       "      <td>0</td>\n",
       "      <td>1</td>\n",
       "      <td>0</td>\n",
       "      <td>0</td>\n",
       "      <td>0</td>\n",
       "      <td>0</td>\n",
       "      <td>0</td>\n",
       "      <td>0</td>\n",
       "      <td>0</td>\n",
       "      <td>0</td>\n",
       "      <td>0</td>\n",
       "      <td>0</td>\n",
       "      <td>0</td>\n",
       "      <td>0</td>\n",
       "      <td>0</td>\n",
       "      <td>0</td>\n",
       "      <td>0</td>\n",
       "      <td>0</td>\n",
       "      <td>0</td>\n",
       "      <td>0</td>\n",
       "      <td>0</td>\n",
       "      <td>0</td>\n",
       "      <td>0</td>\n",
       "      <td>1</td>\n",
       "      <td>0</td>\n",
       "      <td>0</td>\n",
       "      <td>0</td>\n",
       "      <td>0</td>\n",
       "      <td>0</td>\n",
       "      <td>0</td>\n",
       "      <td>0</td>\n",
       "      <td>0</td>\n",
       "      <td>1</td>\n",
       "      <td>0</td>\n",
       "      <td>0</td>\n",
       "      <td>0</td>\n",
       "      <td>0</td>\n",
       "      <td>0</td>\n",
       "      <td>0</td>\n",
       "      <td>0</td>\n",
       "      <td>0</td>\n",
       "      <td>0</td>\n",
       "      <td>0</td>\n",
       "      <td>0</td>\n",
       "      <td>0</td>\n",
       "      <td>0</td>\n",
       "      <td>1</td>\n",
       "      <td>0</td>\n",
       "      <td>0</td>\n",
       "      <td>0</td>\n",
       "      <td>0</td>\n",
       "      <td>0</td>\n",
       "      <td>0</td>\n",
       "      <td>0</td>\n",
       "      <td>0</td>\n",
       "      <td>1</td>\n",
       "      <td>0</td>\n",
       "      <td>0</td>\n",
       "      <td>0</td>\n",
       "      <td>0</td>\n",
       "      <td>1</td>\n",
       "      <td>0</td>\n",
       "      <td>0</td>\n",
       "      <td>0</td>\n",
       "      <td>0</td>\n",
       "      <td>0</td>\n",
       "      <td>0</td>\n",
       "      <td>0</td>\n",
       "      <td>0</td>\n",
       "      <td>0</td>\n",
       "      <td>0</td>\n",
       "      <td>0</td>\n",
       "      <td>0</td>\n",
       "      <td>1</td>\n",
       "      <td>0</td>\n",
       "      <td>0</td>\n",
       "      <td>0</td>\n",
       "      <td>0</td>\n",
       "      <td>0</td>\n",
       "      <td>0</td>\n",
       "      <td>0</td>\n",
       "      <td>0</td>\n",
       "      <td>0</td>\n",
       "      <td>0</td>\n",
       "      <td>0</td>\n",
       "      <td>0</td>\n",
       "      <td>0</td>\n",
       "      <td>0</td>\n",
       "      <td>0</td>\n",
       "      <td>0</td>\n",
       "      <td>0</td>\n",
       "      <td>0</td>\n",
       "      <td>0</td>\n",
       "      <td>0</td>\n",
       "      <td>0</td>\n",
       "      <td>0</td>\n",
       "      <td>0</td>\n",
       "      <td>0</td>\n",
       "      <td>0</td>\n",
       "      <td>0</td>\n",
       "      <td>0</td>\n",
       "      <td>0</td>\n",
       "      <td>0</td>\n",
       "      <td>0</td>\n",
       "      <td>0</td>\n",
       "      <td>0</td>\n",
       "      <td>0</td>\n",
       "    </tr>\n",
       "    <tr>\n",
       "      <th>213443</th>\n",
       "      <td>0k26r3mir0</td>\n",
       "      <td>US</td>\n",
       "      <td>2014-06-30</td>\n",
       "      <td>2014-06-30 23:53:40</td>\n",
       "      <td>2014-07-13</td>\n",
       "      <td>36</td>\n",
       "      <td>0</td>\n",
       "      <td>0</td>\n",
       "      <td>1</td>\n",
       "      <td>0</td>\n",
       "      <td>0</td>\n",
       "      <td>1</td>\n",
       "      <td>0</td>\n",
       "      <td>0</td>\n",
       "      <td>0</td>\n",
       "      <td>0</td>\n",
       "      <td>0</td>\n",
       "      <td>0</td>\n",
       "      <td>0</td>\n",
       "      <td>1</td>\n",
       "      <td>0</td>\n",
       "      <td>0</td>\n",
       "      <td>0</td>\n",
       "      <td>0</td>\n",
       "      <td>0</td>\n",
       "      <td>0</td>\n",
       "      <td>0</td>\n",
       "      <td>0</td>\n",
       "      <td>0</td>\n",
       "      <td>0</td>\n",
       "      <td>0</td>\n",
       "      <td>0</td>\n",
       "      <td>0</td>\n",
       "      <td>0</td>\n",
       "      <td>0</td>\n",
       "      <td>0</td>\n",
       "      <td>0</td>\n",
       "      <td>0</td>\n",
       "      <td>0</td>\n",
       "      <td>0</td>\n",
       "      <td>0</td>\n",
       "      <td>0</td>\n",
       "      <td>0</td>\n",
       "      <td>0</td>\n",
       "      <td>1</td>\n",
       "      <td>0</td>\n",
       "      <td>0</td>\n",
       "      <td>0</td>\n",
       "      <td>0</td>\n",
       "      <td>0</td>\n",
       "      <td>0</td>\n",
       "      <td>0</td>\n",
       "      <td>0</td>\n",
       "      <td>0</td>\n",
       "      <td>1</td>\n",
       "      <td>0</td>\n",
       "      <td>0</td>\n",
       "      <td>0</td>\n",
       "      <td>0</td>\n",
       "      <td>0</td>\n",
       "      <td>0</td>\n",
       "      <td>0</td>\n",
       "      <td>0</td>\n",
       "      <td>0</td>\n",
       "      <td>1</td>\n",
       "      <td>0</td>\n",
       "      <td>0</td>\n",
       "      <td>0</td>\n",
       "      <td>0</td>\n",
       "      <td>0</td>\n",
       "      <td>0</td>\n",
       "      <td>0</td>\n",
       "      <td>0</td>\n",
       "      <td>1</td>\n",
       "      <td>0</td>\n",
       "      <td>0</td>\n",
       "      <td>0</td>\n",
       "      <td>0</td>\n",
       "      <td>1</td>\n",
       "      <td>0</td>\n",
       "      <td>0</td>\n",
       "      <td>0</td>\n",
       "      <td>0</td>\n",
       "      <td>0</td>\n",
       "      <td>0</td>\n",
       "      <td>0</td>\n",
       "      <td>0</td>\n",
       "      <td>0</td>\n",
       "      <td>0</td>\n",
       "      <td>0</td>\n",
       "      <td>0</td>\n",
       "      <td>0</td>\n",
       "      <td>0</td>\n",
       "      <td>0</td>\n",
       "      <td>0</td>\n",
       "      <td>0</td>\n",
       "      <td>0</td>\n",
       "      <td>0</td>\n",
       "      <td>0</td>\n",
       "      <td>0</td>\n",
       "      <td>0</td>\n",
       "      <td>0</td>\n",
       "      <td>0</td>\n",
       "      <td>0</td>\n",
       "      <td>0</td>\n",
       "      <td>0</td>\n",
       "      <td>0</td>\n",
       "      <td>0</td>\n",
       "      <td>0</td>\n",
       "      <td>0</td>\n",
       "      <td>0</td>\n",
       "      <td>0</td>\n",
       "      <td>0</td>\n",
       "      <td>0</td>\n",
       "      <td>1</td>\n",
       "      <td>0</td>\n",
       "      <td>0</td>\n",
       "      <td>0</td>\n",
       "      <td>0</td>\n",
       "      <td>0</td>\n",
       "      <td>0</td>\n",
       "      <td>0</td>\n",
       "      <td>0</td>\n",
       "      <td>0</td>\n",
       "      <td>0</td>\n",
       "    </tr>\n",
       "    <tr>\n",
       "      <th>213445</th>\n",
       "      <td>qbxza0xojf</td>\n",
       "      <td>US</td>\n",
       "      <td>2014-06-30</td>\n",
       "      <td>2014-06-30 23:55:47</td>\n",
       "      <td>2014-07-02</td>\n",
       "      <td>23</td>\n",
       "      <td>0</td>\n",
       "      <td>0</td>\n",
       "      <td>1</td>\n",
       "      <td>0</td>\n",
       "      <td>0</td>\n",
       "      <td>1</td>\n",
       "      <td>0</td>\n",
       "      <td>0</td>\n",
       "      <td>0</td>\n",
       "      <td>0</td>\n",
       "      <td>0</td>\n",
       "      <td>0</td>\n",
       "      <td>0</td>\n",
       "      <td>1</td>\n",
       "      <td>0</td>\n",
       "      <td>0</td>\n",
       "      <td>0</td>\n",
       "      <td>0</td>\n",
       "      <td>0</td>\n",
       "      <td>0</td>\n",
       "      <td>0</td>\n",
       "      <td>0</td>\n",
       "      <td>0</td>\n",
       "      <td>0</td>\n",
       "      <td>0</td>\n",
       "      <td>0</td>\n",
       "      <td>0</td>\n",
       "      <td>0</td>\n",
       "      <td>0</td>\n",
       "      <td>0</td>\n",
       "      <td>0</td>\n",
       "      <td>0</td>\n",
       "      <td>0</td>\n",
       "      <td>0</td>\n",
       "      <td>0</td>\n",
       "      <td>0</td>\n",
       "      <td>0</td>\n",
       "      <td>0</td>\n",
       "      <td>1</td>\n",
       "      <td>0</td>\n",
       "      <td>0</td>\n",
       "      <td>0</td>\n",
       "      <td>0</td>\n",
       "      <td>0</td>\n",
       "      <td>0</td>\n",
       "      <td>0</td>\n",
       "      <td>0</td>\n",
       "      <td>0</td>\n",
       "      <td>1</td>\n",
       "      <td>0</td>\n",
       "      <td>0</td>\n",
       "      <td>0</td>\n",
       "      <td>0</td>\n",
       "      <td>0</td>\n",
       "      <td>0</td>\n",
       "      <td>0</td>\n",
       "      <td>0</td>\n",
       "      <td>0</td>\n",
       "      <td>0</td>\n",
       "      <td>0</td>\n",
       "      <td>0</td>\n",
       "      <td>1</td>\n",
       "      <td>0</td>\n",
       "      <td>0</td>\n",
       "      <td>0</td>\n",
       "      <td>0</td>\n",
       "      <td>0</td>\n",
       "      <td>1</td>\n",
       "      <td>0</td>\n",
       "      <td>0</td>\n",
       "      <td>0</td>\n",
       "      <td>0</td>\n",
       "      <td>0</td>\n",
       "      <td>0</td>\n",
       "      <td>0</td>\n",
       "      <td>1</td>\n",
       "      <td>0</td>\n",
       "      <td>0</td>\n",
       "      <td>0</td>\n",
       "      <td>0</td>\n",
       "      <td>0</td>\n",
       "      <td>0</td>\n",
       "      <td>0</td>\n",
       "      <td>0</td>\n",
       "      <td>0</td>\n",
       "      <td>0</td>\n",
       "      <td>0</td>\n",
       "      <td>0</td>\n",
       "      <td>0</td>\n",
       "      <td>0</td>\n",
       "      <td>0</td>\n",
       "      <td>0</td>\n",
       "      <td>1</td>\n",
       "      <td>0</td>\n",
       "      <td>0</td>\n",
       "      <td>0</td>\n",
       "      <td>0</td>\n",
       "      <td>0</td>\n",
       "      <td>0</td>\n",
       "      <td>0</td>\n",
       "      <td>0</td>\n",
       "      <td>0</td>\n",
       "      <td>0</td>\n",
       "      <td>0</td>\n",
       "      <td>0</td>\n",
       "      <td>0</td>\n",
       "      <td>0</td>\n",
       "      <td>0</td>\n",
       "      <td>0</td>\n",
       "      <td>0</td>\n",
       "      <td>0</td>\n",
       "      <td>0</td>\n",
       "      <td>0</td>\n",
       "      <td>0</td>\n",
       "      <td>0</td>\n",
       "      <td>0</td>\n",
       "      <td>0</td>\n",
       "      <td>0</td>\n",
       "      <td>0</td>\n",
       "    </tr>\n",
       "    <tr>\n",
       "      <th>213446</th>\n",
       "      <td>zxodksqpep</td>\n",
       "      <td>NDF</td>\n",
       "      <td>2014-06-30</td>\n",
       "      <td>2014-06-30 23:56:36</td>\n",
       "      <td>2015-06-29</td>\n",
       "      <td>32</td>\n",
       "      <td>0</td>\n",
       "      <td>0</td>\n",
       "      <td>0</td>\n",
       "      <td>1</td>\n",
       "      <td>0</td>\n",
       "      <td>1</td>\n",
       "      <td>0</td>\n",
       "      <td>0</td>\n",
       "      <td>0</td>\n",
       "      <td>0</td>\n",
       "      <td>0</td>\n",
       "      <td>0</td>\n",
       "      <td>0</td>\n",
       "      <td>1</td>\n",
       "      <td>0</td>\n",
       "      <td>0</td>\n",
       "      <td>0</td>\n",
       "      <td>0</td>\n",
       "      <td>0</td>\n",
       "      <td>0</td>\n",
       "      <td>0</td>\n",
       "      <td>0</td>\n",
       "      <td>0</td>\n",
       "      <td>0</td>\n",
       "      <td>0</td>\n",
       "      <td>0</td>\n",
       "      <td>0</td>\n",
       "      <td>0</td>\n",
       "      <td>0</td>\n",
       "      <td>0</td>\n",
       "      <td>0</td>\n",
       "      <td>0</td>\n",
       "      <td>0</td>\n",
       "      <td>0</td>\n",
       "      <td>0</td>\n",
       "      <td>0</td>\n",
       "      <td>0</td>\n",
       "      <td>0</td>\n",
       "      <td>1</td>\n",
       "      <td>0</td>\n",
       "      <td>0</td>\n",
       "      <td>0</td>\n",
       "      <td>0</td>\n",
       "      <td>0</td>\n",
       "      <td>0</td>\n",
       "      <td>0</td>\n",
       "      <td>0</td>\n",
       "      <td>0</td>\n",
       "      <td>1</td>\n",
       "      <td>0</td>\n",
       "      <td>0</td>\n",
       "      <td>0</td>\n",
       "      <td>0</td>\n",
       "      <td>0</td>\n",
       "      <td>0</td>\n",
       "      <td>0</td>\n",
       "      <td>0</td>\n",
       "      <td>0</td>\n",
       "      <td>0</td>\n",
       "      <td>0</td>\n",
       "      <td>0</td>\n",
       "      <td>1</td>\n",
       "      <td>0</td>\n",
       "      <td>0</td>\n",
       "      <td>0</td>\n",
       "      <td>0</td>\n",
       "      <td>0</td>\n",
       "      <td>1</td>\n",
       "      <td>0</td>\n",
       "      <td>0</td>\n",
       "      <td>0</td>\n",
       "      <td>0</td>\n",
       "      <td>1</td>\n",
       "      <td>0</td>\n",
       "      <td>0</td>\n",
       "      <td>0</td>\n",
       "      <td>0</td>\n",
       "      <td>0</td>\n",
       "      <td>0</td>\n",
       "      <td>0</td>\n",
       "      <td>0</td>\n",
       "      <td>0</td>\n",
       "      <td>0</td>\n",
       "      <td>0</td>\n",
       "      <td>0</td>\n",
       "      <td>0</td>\n",
       "      <td>0</td>\n",
       "      <td>0</td>\n",
       "      <td>0</td>\n",
       "      <td>0</td>\n",
       "      <td>0</td>\n",
       "      <td>0</td>\n",
       "      <td>0</td>\n",
       "      <td>0</td>\n",
       "      <td>0</td>\n",
       "      <td>0</td>\n",
       "      <td>0</td>\n",
       "      <td>0</td>\n",
       "      <td>0</td>\n",
       "      <td>0</td>\n",
       "      <td>0</td>\n",
       "      <td>0</td>\n",
       "      <td>0</td>\n",
       "      <td>0</td>\n",
       "      <td>0</td>\n",
       "      <td>0</td>\n",
       "      <td>0</td>\n",
       "      <td>0</td>\n",
       "      <td>1</td>\n",
       "      <td>0</td>\n",
       "      <td>0</td>\n",
       "      <td>0</td>\n",
       "      <td>0</td>\n",
       "      <td>0</td>\n",
       "      <td>0</td>\n",
       "      <td>0</td>\n",
       "      <td>0</td>\n",
       "      <td>0</td>\n",
       "      <td>0</td>\n",
       "    </tr>\n",
       "    <tr>\n",
       "      <th>213448</th>\n",
       "      <td>6o3arsjbb4</td>\n",
       "      <td>NDF</td>\n",
       "      <td>2014-06-30</td>\n",
       "      <td>2014-06-30 23:57:54</td>\n",
       "      <td>2015-06-29</td>\n",
       "      <td>32</td>\n",
       "      <td>0</td>\n",
       "      <td>1</td>\n",
       "      <td>0</td>\n",
       "      <td>0</td>\n",
       "      <td>0</td>\n",
       "      <td>1</td>\n",
       "      <td>0</td>\n",
       "      <td>0</td>\n",
       "      <td>0</td>\n",
       "      <td>0</td>\n",
       "      <td>0</td>\n",
       "      <td>0</td>\n",
       "      <td>0</td>\n",
       "      <td>1</td>\n",
       "      <td>0</td>\n",
       "      <td>0</td>\n",
       "      <td>0</td>\n",
       "      <td>0</td>\n",
       "      <td>0</td>\n",
       "      <td>0</td>\n",
       "      <td>0</td>\n",
       "      <td>0</td>\n",
       "      <td>0</td>\n",
       "      <td>0</td>\n",
       "      <td>0</td>\n",
       "      <td>0</td>\n",
       "      <td>0</td>\n",
       "      <td>0</td>\n",
       "      <td>0</td>\n",
       "      <td>0</td>\n",
       "      <td>0</td>\n",
       "      <td>0</td>\n",
       "      <td>0</td>\n",
       "      <td>0</td>\n",
       "      <td>0</td>\n",
       "      <td>1</td>\n",
       "      <td>0</td>\n",
       "      <td>0</td>\n",
       "      <td>0</td>\n",
       "      <td>0</td>\n",
       "      <td>0</td>\n",
       "      <td>0</td>\n",
       "      <td>0</td>\n",
       "      <td>0</td>\n",
       "      <td>1</td>\n",
       "      <td>0</td>\n",
       "      <td>0</td>\n",
       "      <td>0</td>\n",
       "      <td>0</td>\n",
       "      <td>0</td>\n",
       "      <td>0</td>\n",
       "      <td>0</td>\n",
       "      <td>0</td>\n",
       "      <td>0</td>\n",
       "      <td>0</td>\n",
       "      <td>0</td>\n",
       "      <td>0</td>\n",
       "      <td>0</td>\n",
       "      <td>0</td>\n",
       "      <td>0</td>\n",
       "      <td>0</td>\n",
       "      <td>0</td>\n",
       "      <td>0</td>\n",
       "      <td>0</td>\n",
       "      <td>1</td>\n",
       "      <td>0</td>\n",
       "      <td>0</td>\n",
       "      <td>1</td>\n",
       "      <td>0</td>\n",
       "      <td>0</td>\n",
       "      <td>0</td>\n",
       "      <td>0</td>\n",
       "      <td>1</td>\n",
       "      <td>0</td>\n",
       "      <td>0</td>\n",
       "      <td>0</td>\n",
       "      <td>0</td>\n",
       "      <td>0</td>\n",
       "      <td>0</td>\n",
       "      <td>0</td>\n",
       "      <td>0</td>\n",
       "      <td>0</td>\n",
       "      <td>0</td>\n",
       "      <td>0</td>\n",
       "      <td>0</td>\n",
       "      <td>0</td>\n",
       "      <td>0</td>\n",
       "      <td>0</td>\n",
       "      <td>0</td>\n",
       "      <td>0</td>\n",
       "      <td>0</td>\n",
       "      <td>1</td>\n",
       "      <td>0</td>\n",
       "      <td>0</td>\n",
       "      <td>0</td>\n",
       "      <td>0</td>\n",
       "      <td>0</td>\n",
       "      <td>0</td>\n",
       "      <td>0</td>\n",
       "      <td>0</td>\n",
       "      <td>0</td>\n",
       "      <td>0</td>\n",
       "      <td>0</td>\n",
       "      <td>0</td>\n",
       "      <td>0</td>\n",
       "      <td>0</td>\n",
       "      <td>0</td>\n",
       "      <td>0</td>\n",
       "      <td>0</td>\n",
       "      <td>0</td>\n",
       "      <td>0</td>\n",
       "      <td>0</td>\n",
       "      <td>0</td>\n",
       "      <td>0</td>\n",
       "      <td>0</td>\n",
       "      <td>0</td>\n",
       "      <td>0</td>\n",
       "      <td>0</td>\n",
       "      <td>0</td>\n",
       "    </tr>\n",
       "  </tbody>\n",
       "</table>\n",
       "<p>122636 rows × 125 columns</p>\n",
       "</div>"
      ],
      "text/plain": [
       "                id country_destination date_account_created timestamp_first_active date_first_booking  age  signup_flow  gender_-unknown-  gender_FEMALE  gender_MALE  gender_OTHER  signup_method_basic  signup_method_facebook  signup_method_google  language_ca  language_cs  language_da  language_de  language_el  language_en  language_es  language_fi  language_fr  language_hr  language_hu  language_id  language_is  language_it  language_ja  language_ko  language_nl  language_no  language_pl  language_pt  language_ru  language_sv  language_th  language_tr  language_zh  affiliate_channel_api  affiliate_channel_content  affiliate_channel_direct  affiliate_channel_other  affiliate_channel_remarketing  affiliate_channel_sem-brand  affiliate_channel_sem-non-brand  affiliate_channel_seo  affiliate_provider_baidu  affiliate_provider_bing  affiliate_provider_craigslist  affiliate_provider_direct  affiliate_provider_email-marketing  affiliate_provider_facebook  affiliate_provider_facebook-open-graph  affiliate_provider_google  affiliate_provider_gsp  affiliate_provider_meetup  affiliate_provider_naver  affiliate_provider_other  affiliate_provider_padmapper  affiliate_provider_vast  affiliate_provider_wayn  affiliate_provider_yahoo  affiliate_provider_yandex  first_affiliate_tracked_linked  first_affiliate_tracked_local ops  first_affiliate_tracked_marketing  first_affiliate_tracked_omg  first_affiliate_tracked_product  first_affiliate_tracked_tracked-other  first_affiliate_tracked_untracked  signup_app_Android  signup_app_Moweb  signup_app_Web  signup_app_iOS  first_device_type_Android Phone  first_device_type_Android Tablet  first_device_type_Desktop (Other)  first_device_type_Mac Desktop  first_device_type_Other/Unknown  first_device_type_SmartPhone (Other)  first_device_type_Windows Desktop  first_device_type_iPad  first_device_type_iPhone  first_browser_-unknown-  first_browser_AOL Explorer  first_browser_Android Browser  first_browser_Apple Mail  first_browser_Avant Browser  first_browser_BlackBerry Browser  first_browser_Camino  first_browser_Chrome  first_browser_Chrome Mobile  first_browser_Chromium  first_browser_CometBird  first_browser_Comodo Dragon  first_browser_CoolNovo  first_browser_Firefox  first_browser_IE  first_browser_IE Mobile  first_browser_IceWeasel  first_browser_Iron  first_browser_Kindle Browser  first_browser_Maxthon  first_browser_Mobile Firefox  first_browser_Mobile Safari  first_browser_Mozilla  first_browser_NetNewsWire  first_browser_Opera  first_browser_Opera Mini  first_browser_Opera Mobile  first_browser_PS Vita browser  first_browser_Pale Moon  first_browser_RockMelt  first_browser_Safari  first_browser_SeaMonkey  first_browser_Silk  first_browser_SiteKiosk  first_browser_SlimBrowser  first_browser_Sogou Explorer  first_browser_Stainless  first_browser_TenFourFox  first_browser_TheWorld Browser  first_browser_Yandex.Browser  first_browser_wOSBrowser\n",
       "1       820tgsjxq7                 NDF           2011-05-25    2009-05-23 17:48:09         2015-06-29   38            0                 0              0            1             0                    0                       1                     0            0            0            0            0            0            1            0            0            0            0            0            0            0            0            0            0            0            0            0            0            0            0            0            0            0                      0                          0                         0                        0                              0                            0                                0                      1                         0                        0                              0                          0                                   0                            0                                       0                          1                       0                          0                         0                         0                             0                        0                        0                         0                          0                               0                                  0                                  0                            0                                0                                      0                                  1                   0                 0               1               0                                0                                 0                                  0                              1                                0                                     0                                  0                       0                         0                        0                           0                              0                         0                            0                                 0                     0                     1                            0                       0                        0                            0                       0                      0                 0                        0                        0                   0                             0                      0                             0                            0                      0                          0                    0                         0                           0                              0                        0                       0                     0                        0                   0                        0                          0                             0                        0                         0                               0                             0                         0\n",
       "2       4ft3gnwmtx                  US           2010-09-28    2009-06-09 23:12:47         2010-08-02   56            3                 0              1            0             0                    1                       0                     0            0            0            0            0            0            1            0            0            0            0            0            0            0            0            0            0            0            0            0            0            0            0            0            0            0                      0                          0                         1                        0                              0                            0                                0                      0                         0                        0                              0                          1                                   0                            0                                       0                          0                       0                          0                         0                         0                             0                        0                        0                         0                          0                               0                                  0                                  0                            0                                0                                      0                                  1                   0                 0               1               0                                0                                 0                                  0                              0                                0                                     0                                  1                       0                         0                        0                           0                              0                         0                            0                                 0                     0                     0                            0                       0                        0                            0                       0                      0                 1                        0                        0                   0                             0                      0                             0                            0                      0                          0                    0                         0                           0                              0                        0                       0                     0                        0                   0                        0                          0                             0                        0                         0                               0                             0                         0\n",
       "3       bjjt8pjhuk               other           2011-12-05    2009-10-31 06:01:29         2012-09-08   42            0                 0              1            0             0                    0                       1                     0            0            0            0            0            0            1            0            0            0            0            0            0            0            0            0            0            0            0            0            0            0            0            0            0            0                      0                          0                         1                        0                              0                            0                                0                      0                         0                        0                              0                          1                                   0                            0                                       0                          0                       0                          0                         0                         0                             0                        0                        0                         0                          0                               0                                  0                                  0                            0                                0                                      0                                  1                   0                 0               1               0                                0                                 0                                  0                              1                                0                                     0                                  0                       0                         0                        0                           0                              0                         0                            0                                 0                     0                     0                            0                       0                        0                            0                       0                      1                 0                        0                        0                   0                             0                      0                             0                            0                      0                          0                    0                         0                           0                              0                        0                       0                     0                        0                   0                        0                          0                             0                        0                         0                               0                             0                         0\n",
       "4       87mebub9p4                  US           2010-09-14    2009-12-08 06:11:05         2010-02-18   41            0                 1              0            0             0                    1                       0                     0            0            0            0            0            0            1            0            0            0            0            0            0            0            0            0            0            0            0            0            0            0            0            0            0            0                      0                          0                         1                        0                              0                            0                                0                      0                         0                        0                              0                          1                                   0                            0                                       0                          0                       0                          0                         0                         0                             0                        0                        0                         0                          0                               0                                  0                                  0                            0                                0                                      0                                  1                   0                 0               1               0                                0                                 0                                  0                              1                                0                                     0                                  0                       0                         0                        0                           0                              0                         0                            0                                 0                     0                     1                            0                       0                        0                            0                       0                      0                 0                        0                        0                   0                             0                      0                             0                            0                      0                          0                    0                         0                           0                              0                        0                       0                     0                        0                   0                        0                          0                             0                        0                         0                               0                             0                         0\n",
       "6       lsw9q7uk0j                  US           2010-01-02    2010-01-02 01:25:58         2010-01-05   46            0                 0              1            0             0                    1                       0                     0            0            0            0            0            0            1            0            0            0            0            0            0            0            0            0            0            0            0            0            0            0            0            0            0            0                      0                          0                         0                        1                              0                            0                                0                      0                         0                        0                              1                          0                                   0                            0                                       0                          0                       0                          0                         0                         0                             0                        0                        0                         0                          0                               0                                  0                                  0                            0                                0                                      0                                  1                   0                 0               1               0                                0                                 0                                  0                              1                                0                                     0                                  0                       0                         0                        0                           0                              0                         0                            0                                 0                     0                     0                            0                       0                        0                            0                       0                      0                 0                        0                        0                   0                             0                      0                             0                            0                      0                          0                    0                         0                           0                              0                        0                       0                     1                        0                   0                        0                          0                             0                        0                         0                               0                             0                         0\n",
       "...            ...                 ...                  ...                    ...                ...  ...          ...               ...            ...          ...           ...                  ...                     ...                   ...          ...          ...          ...          ...          ...          ...          ...          ...          ...          ...          ...          ...          ...          ...          ...          ...          ...          ...          ...          ...          ...          ...          ...          ...          ...                    ...                        ...                       ...                      ...                            ...                          ...                              ...                    ...                       ...                      ...                            ...                        ...                                 ...                          ...                                     ...                        ...                     ...                        ...                       ...                       ...                           ...                      ...                      ...                       ...                        ...                             ...                                ...                                ...                          ...                              ...                                    ...                                ...                 ...               ...             ...             ...                              ...                               ...                                ...                            ...                              ...                                   ...                                ...                     ...                       ...                      ...                         ...                            ...                       ...                          ...                               ...                   ...                   ...                          ...                     ...                      ...                          ...                     ...                    ...               ...                      ...                      ...                 ...                           ...                    ...                           ...                          ...                    ...                        ...                  ...                       ...                         ...                            ...                      ...                     ...                   ...                      ...                 ...                      ...                        ...                           ...                      ...                       ...                             ...                           ...                       ...\n",
       "213441  omlc9iku7t                  ES           2014-06-30    2014-06-30 23:51:51         2014-08-13   34            0                 0              1            0             0                    1                       0                     0            0            0            0            0            0            1            0            0            0            0            0            0            0            0            0            0            0            0            0            0            0            0            0            0            0                      0                          0                         1                        0                              0                            0                                0                      0                         0                        0                              0                          1                                   0                            0                                       0                          0                       0                          0                         0                         0                             0                        0                        0                         0                          0                               1                                  0                                  0                            0                                0                                      0                                  0                   0                 0               1               0                                0                                 0                                  0                              1                                0                                     0                                  0                       0                         0                        0                           0                              0                         0                            0                                 0                     0                     1                            0                       0                        0                            0                       0                      0                 0                        0                        0                   0                             0                      0                             0                            0                      0                          0                    0                         0                           0                              0                        0                       0                     0                        0                   0                        0                          0                             0                        0                         0                               0                             0                         0\n",
       "213443  0k26r3mir0                  US           2014-06-30    2014-06-30 23:53:40         2014-07-13   36            0                 0              1            0             0                    1                       0                     0            0            0            0            0            0            1            0            0            0            0            0            0            0            0            0            0            0            0            0            0            0            0            0            0            0                      0                          0                         0                        0                              0                            1                                0                      0                         0                        0                              0                          0                                   0                            0                                       0                          1                       0                          0                         0                         0                             0                        0                        0                         0                          0                               1                                  0                                  0                            0                                0                                      0                                  0                   0                 0               1               0                                0                                 0                                  0                              1                                0                                     0                                  0                       0                         0                        0                           0                              0                         0                            0                                 0                     0                     0                            0                       0                        0                            0                       0                      0                 0                        0                        0                   0                             0                      0                             0                            0                      0                          0                    0                         0                           0                              0                        0                       0                     1                        0                   0                        0                          0                             0                        0                         0                               0                             0                         0\n",
       "213445  qbxza0xojf                  US           2014-06-30    2014-06-30 23:55:47         2014-07-02   23            0                 0              1            0             0                    1                       0                     0            0            0            0            0            0            1            0            0            0            0            0            0            0            0            0            0            0            0            0            0            0            0            0            0            0                      0                          0                         0                        0                              0                            1                                0                      0                         0                        0                              0                          0                                   0                            0                                       0                          1                       0                          0                         0                         0                             0                        0                        0                         0                          0                               0                                  0                                  0                            1                                0                                      0                                  0                   0                 0               1               0                                0                                 0                                  0                              0                                0                                     0                                  1                       0                         0                        0                           0                              0                         0                            0                                 0                     0                     0                            0                       0                        0                            0                       0                      0                 1                        0                        0                   0                             0                      0                             0                            0                      0                          0                    0                         0                           0                              0                        0                       0                     0                        0                   0                        0                          0                             0                        0                         0                               0                             0                         0\n",
       "213446  zxodksqpep                 NDF           2014-06-30    2014-06-30 23:56:36         2015-06-29   32            0                 0              0            1             0                    1                       0                     0            0            0            0            0            0            1            0            0            0            0            0            0            0            0            0            0            0            0            0            0            0            0            0            0            0                      0                          0                         0                        0                              0                            1                                0                      0                         0                        0                              0                          0                                   0                            0                                       0                          1                       0                          0                         0                         0                             0                        0                        0                         0                          0                               0                                  0                                  0                            1                                0                                      0                                  0                   0                 0               1               0                                0                                 0                                  0                              1                                0                                     0                                  0                       0                         0                        0                           0                              0                         0                            0                                 0                     0                     0                            0                       0                        0                            0                       0                      0                 0                        0                        0                   0                             0                      0                             0                            0                      0                          0                    0                         0                           0                              0                        0                       0                     1                        0                   0                        0                          0                             0                        0                         0                               0                             0                         0\n",
       "213448  6o3arsjbb4                 NDF           2014-06-30    2014-06-30 23:57:54         2015-06-29   32            0                 1              0            0             0                    1                       0                     0            0            0            0            0            0            1            0            0            0            0            0            0            0            0            0            0            0            0            0            0            0            0            0            0            0                      0                          0                         1                        0                              0                            0                                0                      0                         0                        0                              0                          1                                   0                            0                                       0                          0                       0                          0                         0                         0                             0                        0                        0                         0                          0                               0                                  0                                  0                            0                                0                                      0                                  1                   0                 0               1               0                                0                                 0                                  0                              1                                0                                     0                                  0                       0                         0                        0                           0                              0                         0                            0                                 0                     0                     0                            0                       0                        0                            0                       0                      1                 0                        0                        0                   0                             0                      0                             0                            0                      0                          0                    0                         0                           0                              0                        0                       0                     0                        0                   0                        0                          0                             0                        0                         0                               0                             0                         0\n",
       "\n",
       "[122636 rows x 125 columns]"
      ]
     },
     "execution_count": 174,
     "metadata": {},
     "output_type": "execute_result"
    }
   ],
   "source": [
    "df3"
   ]
  },
  {
   "cell_type": "markdown",
   "metadata": {},
   "source": [
    "# 5. Feature Selection"
   ]
  },
  {
   "cell_type": "code",
   "execution_count": 175,
   "metadata": {
    "ExecuteTime": {
     "end_time": "2020-12-13T06:24:22.031063Z",
     "start_time": "2020-12-13T06:24:21.967105Z"
    }
   },
   "outputs": [],
   "source": [
    "cols_drop = ['id', 'date_account_created','timestamp_first_active', 'date_first_booking'] # dates\n",
    "df4 = df3.drop(cols_drop, axis=1)"
   ]
  },
  {
   "cell_type": "code",
   "execution_count": 176,
   "metadata": {
    "ExecuteTime": {
     "end_time": "2020-12-13T06:24:22.716682Z",
     "start_time": "2020-12-13T06:24:22.607747Z"
    }
   },
   "outputs": [],
   "source": [
    "X = df4.drop('country_destination', axis=1)\n",
    "y = df4['country_destination'].copy()"
   ]
  },
  {
   "cell_type": "markdown",
   "metadata": {},
   "source": [
    "# 6. ML Models"
   ]
  },
  {
   "cell_type": "code",
   "execution_count": 177,
   "metadata": {
    "ExecuteTime": {
     "end_time": "2020-12-13T06:24:24.974573Z",
     "start_time": "2020-12-13T06:24:24.066135Z"
    }
   },
   "outputs": [],
   "source": [
    "X_train, X_test, y_train, y_test = ms.train_test_split(X, y, test_size=0.2, random_state=32)"
   ]
  },
  {
   "cell_type": "markdown",
   "metadata": {},
   "source": [
    "## 6.1. Baseline Model"
   ]
  },
  {
   "cell_type": "markdown",
   "metadata": {},
   "source": [
    "***random*** — Generate pseudo-random numbers:\n",
    "\n",
    "random.choices(population, weights=None, *, cum_weights=None, k=1)\n",
    "***Return a k sized list of elements chosen from the population with replacement***. If the population is empty, raises IndexError.\n",
    "\n",
    "***If a weights sequence is specified, selections are made according to the relative weights***. Alternatively, if a cum_weights sequence is given, the selections are made according to the cumulative weights (perhaps computed using itertools.accumulate()). For example, the relative weights [10, 5, 30, 5] are equivalent to the cumulative weights [10, 15, 45, 50]. Internally, the relative weights are converted to cumulative weights before making selections, so supplying the cumulative weights saves work.\n",
    "\n",
    "***If neither weights nor cum_weights are specified, selections are made with equal probability***. If a weights sequence is supplied, it must be the same length as the population sequence. It is a TypeError to specify both weights and cum_weights.\n",
    "\n",
    "The weights or cum_weights can use any numeric type that interoperates with the float values returned by random() (that includes integers, floats, and fractions but excludes decimals). Behavior is undefined if any weight is negative. A ValueError is raised if all weights are zero.\n",
    "\n",
    "For a given seed, the choices() function with equal weighting typically produces a different sequence than repeated calls to choice(). The algorithm used by choices() uses floating point arithmetic for internal consistency and speed. The algorithm used by choice() defaults to integer arithmetic with repeated selections to avoid small biases from round-off error."
   ]
  },
  {
   "cell_type": "code",
   "execution_count": 178,
   "metadata": {
    "ExecuteTime": {
     "end_time": "2020-12-13T06:25:46.992927Z",
     "start_time": "2020-12-13T06:25:46.914973Z"
    }
   },
   "outputs": [],
   "source": [
    "# population list\n",
    "country_destination_list = df1['country_destination'].drop_duplicates().sort_values().tolist()\n",
    "# list of weights in the same order as population\n",
    "country_destination_weights = df1['country_destination'].value_counts(normalize=True).sort_index().tolist()\n",
    "# size of the list generated\n",
    "k_num = y_test.shape[0]\n",
    "\n",
    "yhat_random = random.choices(population = country_destination_list,\n",
    "                             weights=country_destination_weights,\n",
    "                             k=k_num)"
   ]
  },
  {
   "cell_type": "code",
   "execution_count": 179,
   "metadata": {
    "ExecuteTime": {
     "end_time": "2020-12-13T06:26:02.872627Z",
     "start_time": "2020-12-13T06:25:47.707527Z"
    }
   },
   "outputs": [
    {
     "name": "stdout",
     "output_type": "stream",
     "text": [
      "Accuracy: 0.3610159817351598\n",
      "Balanced Accuracy: 0.08360302410029193\n",
      "Kappa Score: 0.001987976944519576\n",
      "              precision    recall  f1-score   support\n",
      "\n",
      "          AU       0.01      0.01      0.01        87\n",
      "          CA       0.01      0.01      0.01       216\n",
      "          DE       0.01      0.01      0.01       164\n",
      "          ES       0.00      0.00      0.00       319\n",
      "          FR       0.03      0.02      0.03       736\n",
      "          GB       0.01      0.01      0.01       361\n",
      "          IT       0.03      0.02      0.02       420\n",
      "         NDF       0.45      0.45      0.45     10962\n",
      "          NL       0.00      0.00      0.00       105\n",
      "          PT       0.00      0.00      0.00        31\n",
      "          US       0.39      0.39      0.39      9606\n",
      "       other       0.07      0.07      0.07      1521\n",
      "\n",
      "    accuracy                           0.36     24528\n",
      "   macro avg       0.08      0.08      0.08     24528\n",
      "weighted avg       0.36      0.36      0.36     24528\n",
      "\n"
     ]
    },
    {
     "data": {
      "text/plain": [
       "<AxesSubplot:title={'center':'Confusion Matrix'}, xlabel='Predicted label', ylabel='True label'>"
      ]
     },
     "execution_count": 179,
     "metadata": {},
     "output_type": "execute_result"
    },
    {
     "data": {
      "image/png": "[encoded data removed]",
      "text/plain": [
       "<Figure size 1296x1296 with 2 Axes>"
      ]
     },
     "metadata": {},
     "output_type": "display_data"
    }
   ],
   "source": [
    "# BASELINE MODEL PERFORMANCE\n",
    "# accuracy: In multilabel classification, this function computes subset accuracy: the set of labels predicted for a sample must exactly match the corresponding set of labels in y_true.\n",
    "acc_random = m.accuracy_score(y_test, yhat_random)\n",
    "print('Accuracy: {}'.format(acc_random))\n",
    "# balanced accuracy: The balanced accuracy in binary and multiclass classification problems to deal with imbalanced datasets. It is defined as the average of recall obtained on each class.\n",
    "balance_acc_random = m.balanced_accuracy_score(y_test, yhat_random)\n",
    "print('Balanced Accuracy: {}'.format(balance_acc_random))\n",
    "# kappa metrics: This function computes Cohen’s kappa [1], a score that expresses the level of agreement between two annotators on a classification problem. It is defined as\n",
    "kappa_random = m.cohen_kappa_score(y_test, yhat_random)\n",
    "print('Kappa Score: {}'.format(kappa_random))\n",
    "# classification report: Build a text report showing the main classification metrics.\n",
    "print(m.classification_report(y_test, yhat_random))\n",
    "# confusion matrix: Compute confusion matrix to evaluate the accuracy of a classification.\n",
    "mt.plot_confusion_matrix(y_test, yhat_random, normalize=False, figsize=(18,18))"
   ]
  },
  {
   "cell_type": "markdown",
   "metadata": {},
   "source": [
    "## 6.2. Neural Network"
   ]
  },
  {
   "cell_type": "code",
   "execution_count": 189,
   "metadata": {
    "ExecuteTime": {
     "end_time": "2020-12-13T06:28:35.285233Z",
     "start_time": "2020-12-13T06:28:35.263246Z"
    }
   },
   "outputs": [
    {
     "data": {
      "text/plain": [
       "array(['other', 'NDF', 'US', 'IT', 'DE', 'FR', 'GB', 'ES', 'AU', 'CA',\n",
       "       'NL', 'PT'], dtype=object)"
      ]
     },
     "execution_count": 189,
     "metadata": {},
     "output_type": "execute_result"
    }
   ],
   "source": [
    "y_train.unique()"
   ]
  },
  {
   "cell_type": "code",
   "execution_count": 180,
   "metadata": {
    "ExecuteTime": {
     "end_time": "2020-12-13T06:26:16.507102Z",
     "start_time": "2020-12-13T06:26:16.499106Z"
    }
   },
   "outputs": [
    {
     "data": {
      "text/plain": [
       "array([['other'],\n",
       "       ['NDF'],\n",
       "       ['NDF'],\n",
       "       ...,\n",
       "       ['US'],\n",
       "       ['NDF'],\n",
       "       ['FR']], dtype=object)"
      ]
     },
     "execution_count": 180,
     "metadata": {},
     "output_type": "execute_result"
    }
   ],
   "source": [
    "y_train.values.reshape(-1,1)"
   ]
  },
  {
   "cell_type": "code",
   "execution_count": 181,
   "metadata": {
    "ExecuteTime": {
     "end_time": "2020-12-13T06:26:18.888629Z",
     "start_time": "2020-12-13T06:26:18.769700Z"
    }
   },
   "outputs": [
    {
     "data": {
      "text/plain": [
       "array([[0., 0., 0., ..., 0., 0., 1.],\n",
       "       [0., 0., 0., ..., 0., 0., 0.],\n",
       "       [0., 0., 0., ..., 0., 0., 0.],\n",
       "       ...,\n",
       "       [0., 0., 0., ..., 0., 1., 0.],\n",
       "       [0., 0., 0., ..., 0., 0., 0.],\n",
       "       [0., 0., 0., ..., 0., 0., 0.]])"
      ]
     },
     "execution_count": 181,
     "metadata": {},
     "output_type": "execute_result"
    }
   ],
   "source": [
    "ohe = pp.OneHotEncoder()\n",
    "\n",
    "y_train_nn = ohe.fit_transform(y_train.values.reshape(-1,1)).toarray()\n",
    "y_train_nn"
   ]
  },
  {
   "cell_type": "code",
   "execution_count": 184,
   "metadata": {
    "ExecuteTime": {
     "end_time": "2020-12-13T06:27:41.021008Z",
     "start_time": "2020-12-13T06:27:41.012014Z"
    }
   },
   "outputs": [
    {
     "data": {
      "text/plain": [
       "(98108, 12)"
      ]
     },
     "execution_count": 184,
     "metadata": {},
     "output_type": "execute_result"
    }
   ],
   "source": [
    "y_train_nn.shape"
   ]
  },
  {
   "cell_type": "code",
   "execution_count": 183,
   "metadata": {
    "ExecuteTime": {
     "end_time": "2020-12-13T06:27:12.112978Z",
     "start_time": "2020-12-13T06:27:12.100984Z"
    }
   },
   "outputs": [
    {
     "data": {
      "text/plain": [
       "(98108, 120)"
      ]
     },
     "execution_count": 183,
     "metadata": {},
     "output_type": "execute_result"
    }
   ],
   "source": [
    "X_train.shape"
   ]
  },
  {
   "cell_type": "code",
   "execution_count": 190,
   "metadata": {
    "ExecuteTime": {
     "end_time": "2020-12-13T06:51:23.959942Z",
     "start_time": "2020-12-13T06:36:13.601128Z"
    }
   },
   "outputs": [
    {
     "name": "stdout",
     "output_type": "stream",
     "text": [
      "Epoch 1/100\n",
      "3066/3066 [==============================] - 9s 3ms/step - loss: 1.3153 - accuracy: 0.5207\n",
      "Epoch 2/100\n",
      "3066/3066 [==============================] - 9s 3ms/step - loss: 1.2816 - accuracy: 0.5290\n",
      "Epoch 3/100\n",
      "3066/3066 [==============================] - 9s 3ms/step - loss: 1.2745 - accuracy: 0.5301\n",
      "Epoch 4/100\n",
      "3066/3066 [==============================] - 9s 3ms/step - loss: 1.2702 - accuracy: 0.5310\n",
      "Epoch 5/100\n",
      "3066/3066 [==============================] - 10s 3ms/step - loss: 1.2672 - accuracy: 0.5333\n",
      "Epoch 6/100\n",
      "3066/3066 [==============================] - 10s 3ms/step - loss: 1.2654 - accuracy: 0.5337\n",
      "Epoch 7/100\n",
      "3066/3066 [==============================] - 9s 3ms/step - loss: 1.2641 - accuracy: 0.5355\n",
      "Epoch 8/100\n",
      "3066/3066 [==============================] - 9s 3ms/step - loss: 1.2630 - accuracy: 0.5355\n",
      "Epoch 9/100\n",
      "3066/3066 [==============================] - 8s 3ms/step - loss: 1.2619 - accuracy: 0.5360\n",
      "Epoch 10/100\n",
      "3066/3066 [==============================] - 9s 3ms/step - loss: 1.2612 - accuracy: 0.5357\n",
      "Epoch 11/100\n",
      "3066/3066 [==============================] - 9s 3ms/step - loss: 1.2603 - accuracy: 0.5366\n",
      "Epoch 12/100\n",
      "3066/3066 [==============================] - 9s 3ms/step - loss: 1.2599 - accuracy: 0.5363\n",
      "Epoch 13/100\n",
      "3066/3066 [==============================] - 9s 3ms/step - loss: 1.2587 - accuracy: 0.5377\n",
      "Epoch 14/100\n",
      "3066/3066 [==============================] - 8s 3ms/step - loss: 1.2585 - accuracy: 0.5366\n",
      "Epoch 15/100\n",
      "3066/3066 [==============================] - 9s 3ms/step - loss: 1.2584 - accuracy: 0.5368\n",
      "Epoch 16/100\n",
      "3066/3066 [==============================] - 9s 3ms/step - loss: 1.2574 - accuracy: 0.5366\n",
      "Epoch 17/100\n",
      "3066/3066 [==============================] - 9s 3ms/step - loss: 1.2570 - accuracy: 0.5374\n",
      "Epoch 18/100\n",
      "3066/3066 [==============================] - 9s 3ms/step - loss: 1.2566 - accuracy: 0.5364\n",
      "Epoch 19/100\n",
      "3066/3066 [==============================] - 9s 3ms/step - loss: 1.2560 - accuracy: 0.5371\n",
      "Epoch 20/100\n",
      "3066/3066 [==============================] - 8s 3ms/step - loss: 1.2552 - accuracy: 0.5373\n",
      "Epoch 21/100\n",
      "3066/3066 [==============================] - 8s 2ms/step - loss: 1.2549 - accuracy: 0.5371\n",
      "Epoch 22/100\n",
      "3066/3066 [==============================] - 10s 3ms/step - loss: 1.2552 - accuracy: 0.5365\n",
      "Epoch 23/100\n",
      "3066/3066 [==============================] - 9s 3ms/step - loss: 1.2544 - accuracy: 0.5376\n",
      "Epoch 24/100\n",
      "3066/3066 [==============================] - 8s 3ms/step - loss: 1.2542 - accuracy: 0.5373\n",
      "Epoch 25/100\n",
      "3066/3066 [==============================] - 7s 2ms/step - loss: 1.2533 - accuracy: 0.5375\n",
      "Epoch 26/100\n",
      "3066/3066 [==============================] - 10s 3ms/step - loss: 1.2529 - accuracy: 0.5373\n",
      "Epoch 27/100\n",
      "3066/3066 [==============================] - 10s 3ms/step - loss: 1.2527 - accuracy: 0.5377\n",
      "Epoch 28/100\n",
      "3066/3066 [==============================] - 10s 3ms/step - loss: 1.2523 - accuracy: 0.5379\n",
      "Epoch 29/100\n",
      "3066/3066 [==============================] - 10s 3ms/step - loss: 1.2518 - accuracy: 0.5383\n",
      "Epoch 30/100\n",
      "3066/3066 [==============================] - 11s 3ms/step - loss: 1.2520 - accuracy: 0.5380\n",
      "Epoch 31/100\n",
      "3066/3066 [==============================] - 10s 3ms/step - loss: 1.2514 - accuracy: 0.5385\n",
      "Epoch 32/100\n",
      "3066/3066 [==============================] - 9s 3ms/step - loss: 1.2512 - accuracy: 0.5383\n",
      "Epoch 33/100\n",
      "3066/3066 [==============================] - 9s 3ms/step - loss: 1.2512 - accuracy: 0.5373\n",
      "Epoch 34/100\n",
      "3066/3066 [==============================] - 9s 3ms/step - loss: 1.2508 - accuracy: 0.5390\n",
      "Epoch 35/100\n",
      "3066/3066 [==============================] - 9s 3ms/step - loss: 1.2504 - accuracy: 0.5380\n",
      "Epoch 36/100\n",
      "3066/3066 [==============================] - 8s 3ms/step - loss: 1.2506 - accuracy: 0.5386\n",
      "Epoch 37/100\n",
      "3066/3066 [==============================] - 9s 3ms/step - loss: 1.2502 - accuracy: 0.5386\n",
      "Epoch 38/100\n",
      "3066/3066 [==============================] - 9s 3ms/step - loss: 1.2501 - accuracy: 0.5385\n",
      "Epoch 39/100\n",
      "3066/3066 [==============================] - 9s 3ms/step - loss: 1.2492 - accuracy: 0.5394\n",
      "Epoch 40/100\n",
      "3066/3066 [==============================] - 9s 3ms/step - loss: 1.2495 - accuracy: 0.5395\n",
      "Epoch 41/100\n",
      "3066/3066 [==============================] - 10s 3ms/step - loss: 1.2487 - accuracy: 0.5392\n",
      "Epoch 42/100\n",
      "3066/3066 [==============================] - 12s 4ms/step - loss: 1.2487 - accuracy: 0.5398\n",
      "Epoch 43/100\n",
      "3066/3066 [==============================] - 8s 3ms/step - loss: 1.2486 - accuracy: 0.5393\n",
      "Epoch 44/100\n",
      "3066/3066 [==============================] - 9s 3ms/step - loss: 1.2481 - accuracy: 0.5394\n",
      "Epoch 45/100\n",
      "3066/3066 [==============================] - 9s 3ms/step - loss: 1.2478 - accuracy: 0.5387\n",
      "Epoch 46/100\n",
      "3066/3066 [==============================] - 8s 3ms/step - loss: 1.2478 - accuracy: 0.5393\n",
      "Epoch 47/100\n",
      "3066/3066 [==============================] - 8s 3ms/step - loss: 1.2475 - accuracy: 0.5393\n",
      "Epoch 48/100\n",
      "3066/3066 [==============================] - 9s 3ms/step - loss: 1.2473 - accuracy: 0.5392\n",
      "Epoch 49/100\n",
      "3066/3066 [==============================] - 9s 3ms/step - loss: 1.2473 - accuracy: 0.5396\n",
      "Epoch 50/100\n",
      "3066/3066 [==============================] - 9s 3ms/step - loss: 1.2466 - accuracy: 0.5394\n",
      "Epoch 51/100\n",
      "3066/3066 [==============================] - 9s 3ms/step - loss: 1.2473 - accuracy: 0.5393\n",
      "Epoch 52/100\n",
      "3066/3066 [==============================] - 10s 3ms/step - loss: 1.2466 - accuracy: 0.5394\n",
      "Epoch 53/100\n",
      "3066/3066 [==============================] - 10s 3ms/step - loss: 1.2465 - accuracy: 0.5394\n",
      "Epoch 54/100\n",
      "3066/3066 [==============================] - 10s 3ms/step - loss: 1.2462 - accuracy: 0.5399\n",
      "Epoch 55/100\n",
      "3066/3066 [==============================] - 10s 3ms/step - loss: 1.2461 - accuracy: 0.5394\n",
      "Epoch 56/100\n",
      "3066/3066 [==============================] - 9s 3ms/step - loss: 1.2459 - accuracy: 0.5405\n",
      "Epoch 57/100\n",
      "3066/3066 [==============================] - 10s 3ms/step - loss: 1.2458 - accuracy: 0.5409\n",
      "Epoch 58/100\n",
      "3066/3066 [==============================] - 10s 3ms/step - loss: 1.2457 - accuracy: 0.5401\n",
      "Epoch 59/100\n",
      "3066/3066 [==============================] - 10s 3ms/step - loss: 1.2459 - accuracy: 0.5394\n",
      "Epoch 60/100\n",
      "3066/3066 [==============================] - 10s 3ms/step - loss: 1.2449 - accuracy: 0.5389\n",
      "Epoch 67/100\n",
      "3066/3066 [==============================] - 10s 3ms/step - loss: 1.2445 - accuracy: 0.5405\n",
      "Epoch 68/100\n",
      "3066/3066 [==============================] - 10s 3ms/step - loss: 1.2443 - accuracy: 0.5399\n",
      "Epoch 69/100\n",
      "3066/3066 [==============================] - 9s 3ms/step - loss: 1.2442 - accuracy: 0.5402\n",
      "Epoch 70/100\n",
      "3066/3066 [==============================] - 9s 3ms/step - loss: 1.2445 - accuracy: 0.5400\n",
      "Epoch 71/100\n",
      "3066/3066 [==============================] - 9s 3ms/step - loss: 1.2447 - accuracy: 0.5393\n",
      "Epoch 72/100\n",
      "3066/3066 [==============================] - 9s 3ms/step - loss: 1.2439 - accuracy: 0.5410\n",
      "Epoch 73/100\n",
      "3066/3066 [==============================] - 9s 3ms/step - loss: 1.2440 - accuracy: 0.5410\n",
      "Epoch 74/100\n",
      "3066/3066 [==============================] - 9s 3ms/step - loss: 1.2439 - accuracy: 0.5409\n",
      "Epoch 75/100\n",
      "3066/3066 [==============================] - ETA: 0s - loss: 1.2436 - accuracy: 0.54 - 8s 3ms/step - loss: 1.2437 - accuracy: 0.5409\n",
      "Epoch 76/100\n",
      "3066/3066 [==============================] - 9s 3ms/step - loss: 1.2433 - accuracy: 0.5412\n",
      "Epoch 77/100\n",
      "3066/3066 [==============================] - 9s 3ms/step - loss: 1.2434 - accuracy: 0.5399\n",
      "Epoch 78/100\n",
      "3066/3066 [==============================] - 9s 3ms/step - loss: 1.2436 - accuracy: 0.5401\n",
      "Epoch 79/100\n",
      "3066/3066 [==============================] - 8s 3ms/step - loss: 1.2434 - accuracy: 0.5408\n",
      "Epoch 80/100\n",
      "3066/3066 [==============================] - 9s 3ms/step - loss: 1.2437 - accuracy: 0.5400\n",
      "Epoch 81/100\n",
      "3066/3066 [==============================] - 9s 3ms/step - loss: 1.2431 - accuracy: 0.5405\n",
      "Epoch 82/100\n",
      "3066/3066 [==============================] - 8s 3ms/step - loss: 1.2433 - accuracy: 0.5399\n",
      "Epoch 83/100\n",
      "3066/3066 [==============================] - 9s 3ms/step - loss: 1.2431 - accuracy: 0.5407\n",
      "Epoch 84/100\n",
      "3066/3066 [==============================] - 9s 3ms/step - loss: 1.2432 - accuracy: 0.5406\n",
      "Epoch 85/100\n"
     ]
    },
    {
     "name": "stdout",
     "output_type": "stream",
     "text": [
      "3066/3066 [==============================] - 9s 3ms/step - loss: 1.2429 - accuracy: 0.5395\n",
      "Epoch 86/100\n",
      "3066/3066 [==============================] - 8s 3ms/step - loss: 1.2429 - accuracy: 0.5404\n",
      "Epoch 87/100\n",
      "3066/3066 [==============================] - 9s 3ms/step - loss: 1.2426 - accuracy: 0.5413\n",
      "Epoch 88/100\n",
      "3066/3066 [==============================] - 9s 3ms/step - loss: 1.2425 - accuracy: 0.5402: \n",
      "Epoch 89/100\n",
      "3066/3066 [==============================] - 9s 3ms/step - loss: 1.2426 - accuracy: 0.5406\n",
      "Epoch 90/100\n",
      "3066/3066 [==============================] - 9s 3ms/step - loss: 1.2424 - accuracy: 0.5411\n",
      "Epoch 91/100\n",
      "3066/3066 [==============================] - 9s 3ms/step - loss: 1.2423 - accuracy: 0.5410\n",
      "Epoch 92/100\n",
      "3066/3066 [==============================] - 9s 3ms/step - loss: 1.2427 - accuracy: 0.5410\n",
      "Epoch 93/100\n",
      "3066/3066 [==============================] - 10s 3ms/step - loss: 1.2422 - accuracy: 0.5412\n",
      "Epoch 94/100\n",
      "3066/3066 [==============================] - 9s 3ms/step - loss: 1.2421 - accuracy: 0.5417\n",
      "Epoch 95/100\n",
      "3066/3066 [==============================] - 9s 3ms/step - loss: 1.2423 - accuracy: 0.5400\n",
      "Epoch 96/100\n",
      "3066/3066 [==============================] - 8s 3ms/step - loss: 1.2423 - accuracy: 0.5406\n",
      "Epoch 97/100\n",
      "3066/3066 [==============================] - 8s 3ms/step - loss: 1.2424 - accuracy: 0.5406\n",
      "Epoch 98/100\n",
      "3066/3066 [==============================] - 9s 3ms/step - loss: 1.2421 - accuracy: 0.5410\n",
      "Epoch 99/100\n",
      "3066/3066 [==============================] - 9s 3ms/step - loss: 1.2416 - accuracy: 0.5405\n",
      "Epoch 100/100\n",
      "3066/3066 [==============================] - 9s 3ms/step - loss: 1.2418 - accuracy: 0.5409\n"
     ]
    },
    {
     "data": {
      "text/plain": [
       "<tensorflow.python.keras.callbacks.History at 0x1fa2f55e160>"
      ]
     },
     "execution_count": 190,
     "metadata": {},
     "output_type": "execute_result"
    }
   ],
   "source": [
    "# model definition\n",
    "model = ml.Sequential()\n",
    "model.add(l.Dense(128, input_dim=X_train.shape[1], activation='relu'))\n",
    "model.add(l.Dense(12, activation='softmax'))\n",
    "\n",
    "# model compile\n",
    "model.compile( loss='categorical_crossentropy', optimizer='adam', metrics=['accuracy'] )\n",
    "\n",
    "# train model\n",
    "model.fit(X_train, y_train_nn, epochs=100)"
   ]
  },
  {
   "cell_type": "code",
   "execution_count": 191,
   "metadata": {
    "ExecuteTime": {
     "end_time": "2020-12-13T07:48:31.432263Z",
     "start_time": "2020-12-13T07:48:30.015142Z"
    }
   },
   "outputs": [],
   "source": [
    "# prediction\n",
    "pred_nn = model.predict(X_test)\n",
    "# invert prediction\n",
    "yhat_nn = ohe.inverse_transform(pred_nn)\n",
    "# prediction prepare\n",
    "y_test_nn = y_test.to_numpy()\n",
    "yhat_nn = yhat_nn.reshape(1,-1)[0]"
   ]
  },
  {
   "cell_type": "code",
   "execution_count": 192,
   "metadata": {
    "ExecuteTime": {
     "end_time": "2020-12-13T07:48:40.866420Z",
     "start_time": "2020-12-13T07:48:31.441258Z"
    }
   },
   "outputs": [
    {
     "name": "stdout",
     "output_type": "stream",
     "text": [
      "Accuracy: 0.5338388780169602\n",
      "Balanced Accuracy: 0.10549340418244192\n",
      "Kappa Score: 0.19420254367328593\n"
     ]
    },
    {
     "name": "stderr",
     "output_type": "stream",
     "text": [
      "c:\\users\\lucas\\miniconda3\\lib\\site-packages\\sklearn\\metrics\\_classification.py:1221: UndefinedMetricWarning: Precision and F-score are ill-defined and being set to 0.0 in labels with no predicted samples. Use `zero_division` parameter to control this behavior.\n",
      "  _warn_prf(average, modifier, msg_start, len(result))\n"
     ]
    },
    {
     "name": "stdout",
     "output_type": "stream",
     "text": [
      "              precision    recall  f1-score   support\n",
      "\n",
      "          AU       0.00      0.00      0.00        87\n",
      "          CA       0.00      0.00      0.00       216\n",
      "          DE       0.00      0.00      0.00       164\n",
      "          ES       0.00      0.00      0.00       319\n",
      "          FR       0.00      0.00      0.00       736\n",
      "          GB       0.00      0.00      0.00       361\n",
      "          IT       0.00      0.00      0.00       420\n",
      "         NDF       0.56      0.69      0.62     10962\n",
      "          NL       0.00      0.00      0.00       105\n",
      "          PT       0.00      0.00      0.00        31\n",
      "          US       0.50      0.58      0.53      9606\n",
      "       other       0.00      0.00      0.00      1521\n",
      "\n",
      "    accuracy                           0.53     24528\n",
      "   macro avg       0.09      0.11      0.10     24528\n",
      "weighted avg       0.45      0.53      0.49     24528\n",
      "\n"
     ]
    },
    {
     "data": {
      "text/plain": [
       "<AxesSubplot:title={'center':'Confusion Matrix'}, xlabel='Predicted label', ylabel='True label'>"
      ]
     },
     "execution_count": 192,
     "metadata": {},
     "output_type": "execute_result"
    },
    {
     "data": {
      "image/png": "[encoded data removed]",
      "text/plain": [
       "<Figure size 1296x1296 with 2 Axes>"
      ]
     },
     "metadata": {},
     "output_type": "display_data"
    }
   ],
   "source": [
    "# accuracy: In multilabel classification, this function computes subset accuracy: the set of labels predicted for a sample must exactly match the corresponding set of labels in y_true.\n",
    "acc_nn = m.accuracy_score(y_test_nn, yhat_nn)\n",
    "print('Accuracy: {}'.format(acc_nn))\n",
    "\n",
    "# balanced accuracy: The balanced accuracy in binary and multiclass classification problems to deal with imbalanced datasets. It is defined as the average of recall obtained on each class.\n",
    "balance_acc_nn = m.balanced_accuracy_score(y_test, yhat_nn)\n",
    "print('Balanced Accuracy: {}'.format(balance_acc_nn))\n",
    "\n",
    "# kappa metrics: This function computes Cohen’s kappa [1], a score that expresses the level of agreement between two annotators on a classification problem. It is defined as\n",
    "kappa_nn = m.cohen_kappa_score(y_test, yhat_nn)\n",
    "print('Kappa Score: {}'.format(kappa_nn))\n",
    "\n",
    "# classification report: Build a text report showing the main classification metrics.\n",
    "print(m.classification_report(y_test, yhat_nn))\n",
    "\n",
    "# confusion matrix: Compute confusion matrix to evaluate the accuracy of a classification.\n",
    "mt.plot_confusion_matrix(y_test_nn, yhat_nn, normalize=False, figsize=(18,18)) "
   ]
  },
  {
   "cell_type": "markdown",
   "metadata": {},
   "source": [
    "## NN perfomance - Cross-Validation"
   ]
  },
  {
   "cell_type": "code",
   "execution_count": 193,
   "metadata": {
    "ExecuteTime": {
     "end_time": "2020-12-13T07:48:43.592491Z",
     "start_time": "2020-12-13T07:48:43.585493Z"
    }
   },
   "outputs": [],
   "source": [
    "x_train = X_train"
   ]
  },
  {
   "cell_type": "code",
   "execution_count": null,
   "metadata": {
    "ExecuteTime": {
     "start_time": "2020-12-13T07:48:56.768Z"
    }
   },
   "outputs": [
    {
     "name": "stdout",
     "output_type": "stream",
     "text": [
      "Fold Number: 1/5\n",
      "Fold Number: 2/5\n",
      "Fold Number: 3/5\n",
      "Fold Number: 4/5\n",
      "Fold Number: 5/5\n"
     ]
    }
   ],
   "source": [
    "# generate k-fold for neural network classification:\n",
    "        # Stratified K-Folds cross-validator, Provides train/test indices to split data in train/test sets. \n",
    "        # This cross-validation object is a variation of KFold that returns stratified folds. The folds are made by preserving the percentage of samples for each class.\n",
    "num_folds = 5\n",
    "kfold = ms.StratifiedKFold( n_splits=num_folds, shuffle=True, random_state=32 )\n",
    "\n",
    "balanced_acc_list = []\n",
    "kappa_acc_list = []\n",
    "\n",
    "i = 1\n",
    "for train_ix, val_ix in kfold.split( x_train, y_train ):\n",
    "    print( 'Fold Number: {}/{}'.format( i, num_folds ) )\n",
    "    \n",
    "    # get fold\n",
    "    x_train_fold = x_train.iloc[train_ix]\n",
    "    y_train_fold = y_train.iloc[train_ix]\n",
    "    \n",
    "    x_val_fold = x_train.iloc[val_ix]\n",
    "    y_val_fold = y_train.iloc[val_ix]\n",
    "    \n",
    "    # target hot-encoding\n",
    "    ohe = pp.OneHotEncoder()\n",
    "    y_train_fold_nn = ohe.fit_transform( y_train_fold.values.reshape( -1, 1 ) ).toarray()\n",
    "\n",
    "    # model definition\n",
    "    model = ml.Sequential()\n",
    "    model.add( l.Dense( 256, input_dim=x_train.shape[1], activation='relu' ) )\n",
    "    model.add( l.Dense( 12, activation='softmax') )\n",
    "\n",
    "    # compile model\n",
    "    model.compile( loss='categorical_crossentropy', optimizer='adam', metrics=['accuracy'] )\n",
    "\n",
    "    # training model\n",
    "    model.fit( x_train_fold, y_train_fold_nn, epochs=100, batch_size=32, verbose=0 )\n",
    "\n",
    "    # prediction\n",
    "    pred_nn = model.predict( x_val_fold )\n",
    "    yhat_nn = ohe.inverse_transform( pred_nn )\n",
    "    \n",
    "    # prepare data\n",
    "    y_test_nn = y_val_fold.to_numpy()\n",
    "    yhat_nn = yhat_nn.reshape( 1, -1 )[0]\n",
    "\n",
    "    # metrics\n",
    "    ## Balanced Accuracy \n",
    "    balanced_acc_nn = m.balanced_accuracy_score( y_test_nn, yhat_nn )\n",
    "    balanced_acc_list.append( balanced_acc_nn )\n",
    "    \n",
    "    ## Kappa Metrics\n",
    "    kappa_acc_nn = m.cohen_kappa_score( y_test_nn, yhat_nn )\n",
    "    kappa_acc_list.append( kappa_acc_nn )\n",
    "    \n",
    "    i += 1"
   ]
  },
  {
   "cell_type": "code",
   "execution_count": 78,
   "metadata": {
    "ExecuteTime": {
     "end_time": "2020-12-11T14:13:15.536800Z",
     "start_time": "2020-12-11T14:13:15.525806Z"
    }
   },
   "outputs": [
    {
     "name": "stdout",
     "output_type": "stream",
     "text": [
      "Avg Balanced Accuracy: 0.09 +/- 0.0008\n",
      "Avg Kappa: 0.0031 +/- 0.0024\n"
     ]
    }
   ],
   "source": [
    "print( 'Avg Balanced Accuracy: {} +/- {}'.format( np.round( np.mean( balanced_acc_list ), 2 ), \n",
    "                                                  np.round( np.std( balanced_acc_list  ), 4 ) ) )\n",
    "print( 'Avg Kappa: {} +/- {}'.format( np.round( np.mean( kappa_acc_list ), 4 ), \n",
    "                                      np.round( np.std( kappa_acc_list ), 4 ) ) )"
   ]
  },
  {
   "cell_type": "code",
   "execution_count": 80,
   "metadata": {
    "ExecuteTime": {
     "end_time": "2020-12-11T21:57:36.405092Z",
     "start_time": "2020-12-11T21:57:36.394100Z"
    }
   },
   "outputs": [
    {
     "name": "stdout",
     "output_type": "stream",
     "text": [
      "Avg Balanced Accuracy: 0.09 +/- 0.0008\n",
      "Avg Kappa: 0.0031 +/- 0.0024\n"
     ]
    }
   ],
   "source": [
    "print( 'Avg Balanced Accuracy: {} +/- {}'.format( np.round( np.mean( balanced_acc_list ), 2 ), \n",
    "                                                  np.round( np.std( balanced_acc_list  ), 4 ) ) )\n",
    "print( 'Avg Kappa: {} +/- {}'.format( np.round( np.mean( kappa_acc_list ), 4 ), \n",
    "                                      np.round( np.std( kappa_acc_list ), 4 ) ) )"
   ]
  },
  {
   "cell_type": "code",
   "execution_count": null,
   "metadata": {},
   "outputs": [],
   "source": []
  }
 ],
 "metadata": {
  "kernelspec": {
   "display_name": "Python 3",
   "language": "python",
   "name": "python3"
  },
  "language_info": {
   "codemirror_mode": {
    "name": "ipython",
    "version": 3
   },
   "file_extension": ".py",
   "mimetype": "text/x-python",
   "name": "python",
   "nbconvert_exporter": "python",
   "pygments_lexer": "ipython3",
   "version": "3.8.5"
  },
  "latex_envs": {
   "LaTeX_envs_menu_present": true,
   "autoclose": false,
   "autocomplete": true,
   "bibliofile": "biblio.bib",
   "cite_by": "apalike",
   "current_citInitial": 1,
   "eqLabelWithNumbers": true,
   "eqNumInitial": 1,
   "hotkeys": {
    "equation": "Ctrl-E",
    "itemize": "Ctrl-I"
   },
   "labels_anchors": false,
   "latex_user_defs": false,
   "report_style_numbering": false,
   "user_envs_cfg": false
  }
 },
 "nbformat": 4,
 "nbformat_minor": 2
}
